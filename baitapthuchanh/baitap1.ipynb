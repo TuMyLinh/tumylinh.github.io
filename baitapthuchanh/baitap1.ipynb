{
 "cells": [
  {
   "cell_type": "code",
   "execution_count": 1,
   "id": "ed2f14e6-a83b-41ec-8cdc-b878c9fffd28",
   "metadata": {},
   "outputs": [
    {
     "name": "stdout",
     "output_type": "stream",
     "text": [
      "Whoever is happy will make others happy too\n",
      "--Anne Frank\n"
     ]
    }
   ],
   "source": [
    "print(\"Whoever is happy will make others happy too\");\n",
    "print(\"--Anne Frank\");"
   ]
  },
  {
   "cell_type": "code",
   "execution_count": 1,
   "id": "e8a2f1e1-e3f9-4587-aec3-fa56a13ccee6",
   "metadata": {},
   "outputs": [
    {
     "name": "stdout",
     "output_type": "stream",
     "text": [
      "Cac ket qua tinh toan: \n",
      "5     + 6     =    11\n",
      "5     - 6     =    -1\n",
      "5     * 6     =    30\n",
      "5     // 6     =     0\n",
      "5     % 6     =     5\n",
      "5     / 6     =  0.83\n"
     ]
    }
   ],
   "source": [
    "# Nhập dữ liệu \n",
    "a = int(input(\"Moi ban nhap so a: \"))\n",
    "b = int(input(\"Moi ban nhap so b: \"))\n",
    "\n",
    "# Xử lý\n",
    "kqCong = a + b\n",
    "kqTru = a - b\n",
    "kqNhan = a * b\n",
    "kqChiaNguyen = a // b\n",
    "kqDu = a % b\n",
    "kqChiaThuc = a / b\n",
    "\n",
    "# Xuất dữ liệu\n",
    "print(\"Cac ket qua tinh toan: \")\n",
    "print(\"%-5d + %-5d = %5d\" % (a, b, kqCong))\n",
    "print(\"%-5d - %-5d = %5d\" % (a, b, kqTru))\n",
    "print(\"%-5d * %-5d = %5d\" % (a, b, kqNhan))\n",
    "print(\"%-5d // %-5d = %5d\" % (a, b, kqChiaNguyen))\n",
    "print(\"%-5d %% %-5d = %5d\" % (a, b, kqDu))\n",
    "print(\"%-5d / %-5d = %5.2f\" % (a, b, kqChiaThuc))\n",
    "\n",
    "\n"
   ]
  },
  {
   "cell_type": "code",
   "execution_count": 2,
   "id": "38540954",
   "metadata": {},
   "outputs": [
    {
     "name": "stdout",
     "output_type": "stream",
     "text": [
      "Ket qua so sanh hai so thuc 2.50 va 6.80:\n",
      "2.50     <  6.80    : True\n",
      "2.50     <= 6.80    : True\n",
      "2.50     >  6.80    : False\n",
      "2.50     >= 6.80    : False\n",
      "2.50     == 6.80    : False\n",
      "2.50     != 6.80    : True\n"
     ]
    }
   ],
   "source": [
    "# Nhập dữ liệu\n",
    "a = float(input(\"Moi ban nhap so a: \"))\n",
    "b = float(input(\"Moi ban nhap so b: \"))\n",
    "\n",
    "# Xử lý\n",
    "laNhoHon = (a < b)\n",
    "laNhoHonBang = (a <= b)\n",
    "laLonHon = (a > b)\n",
    "laLonHonBang = (a >= b)\n",
    "laBang = (a == b)\n",
    "laKhacNhau = (a != b)\n",
    "\n",
    "# Xuất dữ liệu\n",
    "print(\"Ket qua so sanh hai so thuc %.2f va %.2f:\" % (a, b))\n",
    "print(\"%-8.2f <  %-8.2f: %s\" % (a, b, laNhoHon))\n",
    "print(\"%-8.2f <= %-8.2f: %s\" % (a, b, laNhoHonBang))\n",
    "print(\"%-8.2f >  %-8.2f: %s\" % (a, b, laLonHon))\n",
    "print(\"%-8.2f >= %-8.2f: %s\" % (a, b, laLonHonBang))\n",
    "print(\"%-8.2f == %-8.2f: %s\" % (a, b, laBang))\n",
    "print(\"%-8.2f != %-8.2f: %s\" % (a, b, laKhacNhau))\n"
   ]
  },
  {
   "cell_type": "code",
   "execution_count": 3,
   "id": "0f3cc4f7",
   "metadata": {},
   "outputs": [
    {
     "name": "stdout",
     "output_type": "stream",
     "text": [
      "Gia tri cua ham so f(2.30) = 3.27.\n"
     ]
    }
   ],
   "source": [
    "# Nạp thư viện\n",
    "import math\n",
    "\n",
    "# Nhập dữ liệu\n",
    "x = float(input(\"Moi ban nhap vao gia tri cua bien so x: \"))\n",
    "\n",
    "# Xử lý\n",
    "fx = x + math.pow(x, 5) / (1 * 2 * 3 * 4 * 5) + \\\n",
    "     math.sqrt(abs(x)) / math.pow(x, 3.0 / 2)\n",
    "\n",
    "# Xuất dữ liệu\n",
    "print(\"Gia tri cua ham so f(%.2f) = %.2f.\" % (x, fx))\n"
   ]
  },
  {
   "cell_type": "code",
   "execution_count": 4,
   "id": "a0f10200",
   "metadata": {},
   "outputs": [
    {
     "name": "stdout",
     "output_type": "stream",
     "text": [
      "Gia tri cua ham so f(1234.00) = 23844847676662.54.\n"
     ]
    }
   ],
   "source": [
    "# Nạp thư viện\n",
    "import math\n",
    "\n",
    "# Nhập dữ liệu\n",
    "x = float(input(\"Moi ban nhap vao gia tri cua bien so x: \"))\n",
    "\n",
    "# Xử lý\n",
    "fx = x + math.pow(x, 5) / (1 * 2 * 3 * 4 * 5) + \\\n",
    "     math.sqrt(abs(x)) / math.pow(x, 3.0 / 2)\n",
    "\n",
    "# Xuất dữ liệu\n",
    "print(\"Gia tri cua ham so f(%.2f) = %.2f.\" % (x, fx))\n"
   ]
  },
  {
   "cell_type": "markdown",
   "id": "54df88f6",
   "metadata": {},
   "source": [
    "Bài tập thực hành tự làm"
   ]
  },
  {
   "cell_type": "code",
   "execution_count": 5,
   "id": "ef89518f",
   "metadata": {},
   "outputs": [
    {
     "name": "stdout",
     "output_type": "stream",
     "text": [
      "******************************\n",
      "* Truong: Dai Hoc UEH        *\n",
      "* Khoa: CNTT                 *\n",
      "* Ho ten:                    *\n",
      "******************************\n"
     ]
    }
   ],
   "source": [
    "def InNhan():\n",
    "    print(\"******************************\")\n",
    "    print(\"* Truong: Dai Hoc UEH        *\")\n",
    "    print(\"* Khoa: CNTT                 *\")\n",
    "    print(\"* Ho ten:                    *\")\n",
    "    print(\"******************************\")\n",
    "\n",
    "# Gọi hàm để chạy\n",
    "InNhan()\n"
   ]
  },
  {
   "cell_type": "code",
   "execution_count": 6,
   "id": "d32c61f4",
   "metadata": {},
   "outputs": [
    {
     "name": "stdout",
     "output_type": "stream",
     "text": [
      "Dien tich S = 78.5\n",
      "Chu vi P = 31.4\n"
     ]
    }
   ],
   "source": [
    "def HinhTron():\n",
    "    R = float(input(\"Nhap ban kinh R: \"))\n",
    "    S = 3.14 * R * R\n",
    "    P = 2 * 3.14 * R\n",
    "    print(\"Dien tich S = {:.1f}\".format(S))\n",
    "    print(\"Chu vi P = {:.1f}\".format(P))\n",
    "\n",
    "# Gọi hàm để chạy\n",
    "HinhTron()\n"
   ]
  },
  {
   "cell_type": "code",
   "execution_count": 7,
   "id": "bed331ff",
   "metadata": {},
   "outputs": [
    {
     "name": "stdout",
     "output_type": "stream",
     "text": [
      "Tong so giay cua 1:20:10 la 4810 giay\n"
     ]
    }
   ],
   "source": [
    "def DoiSangGiay():\n",
    "    h = int(input(\"Nhap so gio: \"))\n",
    "    m = int(input(\"Nhap so phut: \"))\n",
    "    s = int(input(\"Nhap so giay: \"))\n",
    "\n",
    "    tong_giay = h * 3600 + m * 60 + s\n",
    "\n",
    "    print(f\"Tong so giay cua {h}:{m}:{s} la {tong_giay} giay\")\n",
    "\n",
    "# Gọi hàm để chạy\n",
    "DoiSangGiay()\n"
   ]
  },
  {
   "cell_type": "code",
   "execution_count": 8,
   "id": "1fe4f7b5",
   "metadata": {},
   "outputs": [
    {
     "name": "stdout",
     "output_type": "stream",
     "text": [
      "4810 giay co dang 1:20:10\n"
     ]
    }
   ],
   "source": [
    "def DoiSangGioPhutGiay():\n",
    "    t = int(input(\"Nhap vao tong so giay: \"))\n",
    "    \n",
    "    h = t // 3600\n",
    "    m = (t % 3600) // 60\n",
    "    s = t % 60\n",
    "    \n",
    "    print(f\"{t} giay co dang {h}:{m}:{s}\")\n",
    "\n",
    "# Gọi hàm để chạy\n",
    "DoiSangGioPhutGiay()\n"
   ]
  },
  {
   "cell_type": "code",
   "execution_count": 9,
   "id": "e998ccd3",
   "metadata": {},
   "outputs": [
    {
     "name": "stdout",
     "output_type": "stream",
     "text": [
      "Dien tich tam giac S = 2.90\n"
     ]
    }
   ],
   "source": [
    "import math\n",
    "\n",
    "def DienTichTamGiac():\n",
    "    a = float(input(\"Nhap do dai canh a: \"))\n",
    "    b = float(input(\"Nhap do dai canh b: \"))\n",
    "    c = float(input(\"Nhap do dai canh c: \"))\n",
    "\n",
    "    p = (a + b + c) / 2\n",
    "    S = math.sqrt(p * (p - a) * (p - b) * (p - c))\n",
    "\n",
    "    print(\"Dien tich tam giac S = {:.2f}\".format(S))\n",
    "\n",
    "# Gọi hàm để chạy\n",
    "DienTichTamGiac()\n"
   ]
  },
  {
   "cell_type": "code",
   "execution_count": 10,
   "id": "5a7bc42e",
   "metadata": {},
   "outputs": [
    {
     "name": "stdout",
     "output_type": "stream",
     "text": [
      "Ket qua 2.0^4 = 16.0\n"
     ]
    }
   ],
   "source": [
    "def TinhMu():\n",
    "    a = float(input(\"Nhap so thuc a: \"))\n",
    "    n = int(input(\"Nhap so mu n: \"))\n",
    "    \n",
    "    ket_qua = a ** n\n",
    "    \n",
    "    print(f\"Ket qua {a}^{n} = {ket_qua}\")\n",
    "\n",
    "# Gọi hàm để chạy\n",
    "TinhMu()\n"
   ]
  },
  {
   "cell_type": "code",
   "execution_count": 11,
   "id": "a6b4f6fb",
   "metadata": {},
   "outputs": [
    {
     "name": "stdout",
     "output_type": "stream",
     "text": [
      "So dao cua 1234 la 4321\n"
     ]
    }
   ],
   "source": [
    "def DaoSo():\n",
    "    x = int(input(\"Nhap so nguyen co 4 chu so: \"))\n",
    "    \n",
    "    # Đổi số sang chuỗi, đảo ngược rồi đổi lại thành số nguyên\n",
    "    y = int(str(x)[::-1])\n",
    "    \n",
    "    print(f\"So dao cua {x} la {y}\")\n",
    "\n",
    "# Gọi hàm để chạy\n",
    "DaoSo()\n"
   ]
  },
  {
   "cell_type": "code",
   "execution_count": 12,
   "id": "d30ed921",
   "metadata": {},
   "outputs": [
    {
     "name": "stdout",
     "output_type": "stream",
     "text": [
      "180.0 do = 3.1416 radian\n"
     ]
    }
   ],
   "source": [
    "import math\n",
    "\n",
    "def DoSangRadian():\n",
    "    do_goc = float(input(\"Nhap goc (do): \"))\n",
    "    radian = do_goc * math.pi / 180\n",
    "    print(f\"{do_goc} do = {radian:.4f} radian\")\n",
    "\n",
    "# Gọi hàm để chạy\n",
    "DoSangRadian()\n"
   ]
  },
  {
   "cell_type": "code",
   "execution_count": 13,
   "id": "5a1f1faf",
   "metadata": {},
   "outputs": [
    {
     "name": "stdout",
     "output_type": "stream",
     "text": [
      "y1 = 157.14\n",
      "y2 = 0.04\n"
     ]
    }
   ],
   "source": [
    "import math\n",
    "\n",
    "def HamSo1():\n",
    "    x = float(input(\"Nhap gia tri x: \"))\n",
    "\n",
    "    # Tính y1\n",
    "    y1 = 4 * (x**2 + 10*x*math.sqrt(x) + 3*x + 1)\n",
    "\n",
    "    # Tính y2\n",
    "    y2 = (math.sin(math.pi * x**2) + math.sqrt(x**2 + 1)) / (math.exp(2*x) + math.cos((math.pi/4) * x))\n",
    "\n",
    "    print(\"y1 = {:.2f}\".format(y1))\n",
    "    print(\"y2 = {:.2f}\".format(y2))\n",
    "\n",
    "# Gọi hàm để chạy\n",
    "HamSo1()\n"
   ]
  },
  {
   "cell_type": "code",
   "execution_count": 14,
   "id": "fc1bba03",
   "metadata": {},
   "outputs": [
    {
     "name": "stdout",
     "output_type": "stream",
     "text": [
      "Khoang cach giua A(1.00, 2.00) va B(4.00, 6.00) la: 5.00\n"
     ]
    }
   ],
   "source": [
    "import math\n",
    "\n",
    "def KhoangCach():\n",
    "    x1 = float(input(\"Nhap x1: \"))\n",
    "    y1 = float(input(\"Nhap y1: \"))\n",
    "    x2 = float(input(\"Nhap x2: \"))\n",
    "    y2 = float(input(\"Nhap y2: \"))\n",
    "\n",
    "    d = math.sqrt((x2 - x1)**2 + (y2 - y1)**2)\n",
    "\n",
    "    print(\"Khoang cach giua A({:.2f}, {:.2f}) va B({:.2f}, {:.2f}) la: {:.2f}\".format(x1, y1, x2, y2, d))\n",
    "\n",
    "# Gọi hàm để chạy\n",
    "KhoangCach()\n"
   ]
  },
  {
   "cell_type": "markdown",
   "id": "ff88990e",
   "metadata": {},
   "source": [
    "BÀI TẬP TRÊN LỚP"
   ]
  },
  {
   "cell_type": "code",
   "execution_count": 16,
   "id": "46f4a08c",
   "metadata": {},
   "outputs": [
    {
     "name": "stdout",
     "output_type": "stream",
     "text": [
      "Max(2, 5, 4) = 5\n"
     ]
    }
   ],
   "source": [
    "# Input a, b, c\n",
    "a = int(input(\"Nhap a: \"))\n",
    "b = int(input(\"Nhap b: \"))\n",
    "c = int(input(\"Nhap c: \"))\n",
    "\n",
    "# Hàm tìm max giữa 2 số\n",
    "def max_fn(a, b):\n",
    "    return a if a > b else b\n",
    "\n",
    "# Tìm max của a, b, c\n",
    "vmax = max_fn(a, b)\n",
    "vmax = max_fn(vmax, c)\n",
    "\n",
    "# Output\n",
    "print(\"Max(%d, %d, %d) = %d\" % (a, b, c, vmax))\n"
   ]
  },
  {
   "cell_type": "code",
   "execution_count": 17,
   "id": "ccbc9ab6",
   "metadata": {},
   "outputs": [
    {
     "name": "stdout",
     "output_type": "stream",
     "text": [
      "Max(2, 3, 4) = 4\n"
     ]
    }
   ],
   "source": [
    "# Input a, b, c\n",
    "a = int(input(\"Nhap a: \"))\n",
    "b = int(input(\"Nhap b: \"))\n",
    "c = int(input(\"Nhap c: \"))\n",
    "\n",
    "# max a, b, c\n",
    "def max3(a, b, c):\n",
    "    vmax = a if a > b else b\n",
    "    if vmax < c:\n",
    "        vmax = c\n",
    "    return vmax\n",
    "\n",
    "vmax = max3(a, b, c)\n",
    "\n",
    "# output\n",
    "print(\"Max(%d, %d, %d) = %d\" % (a, b, c, vmax))\n"
   ]
  },
  {
   "cell_type": "code",
   "execution_count": 18,
   "id": "60893677",
   "metadata": {},
   "outputs": [
    {
     "name": "stdout",
     "output_type": "stream",
     "text": [
      "2 3 4\n"
     ]
    }
   ],
   "source": [
    "# Input a, b, c\n",
    "a = int(input())\n",
    "b = int(input())\n",
    "c = int(input())\n",
    "\n",
    "# Đưa vào list\n",
    "arr = [a, b, c]\n",
    "\n",
    "# Sắp xếp tăng dần\n",
    "arr.sort()\n",
    "\n",
    "# Output\n",
    "print(arr[0], arr[1], arr[2])\n"
   ]
  },
  {
   "cell_type": "code",
   "execution_count": 21,
   "id": "dee190ab",
   "metadata": {},
   "outputs": [
    {
     "name": "stdout",
     "output_type": "stream",
     "text": [
      "0.00x + 10.00 = 0: no solution\n"
     ]
    }
   ],
   "source": [
    "# Input a, b with ax + b = 0\n",
    "a = float(input(\"Nhap a: \"))\n",
    "b = int(input(\"Nhap b: \"))\n",
    "\n",
    "# Process\n",
    "def solv1deg(a, b):\n",
    "    \"\"\"\n",
    "    Solve Equation ax + b = 0\n",
    "    \"\"\"\n",
    "    nsol, x = None, None\n",
    "    if a == 0:\n",
    "        if b == 0:\n",
    "            nsol = -1   # vô số nghiệm\n",
    "        else:\n",
    "            nsol = 0    # vô nghiệm\n",
    "    else:\n",
    "        nsol = 1        # có 1 nghiệm duy nhất\n",
    "        x = -b / a\n",
    "    return nsol, x\n",
    "\n",
    "\n",
    "# Gọi hàm giải phương trình\n",
    "nsol, x = solv1deg(a, b)\n",
    "\n",
    "# Output\n",
    "if nsol == -1:\n",
    "    print(\"%.2fx + %.2f = 0: unlimited solutions\" % (a, b))\n",
    "elif nsol == 0:\n",
    "    print(\"%.2fx + %.2f = 0: no solution\" % (a, b))\n",
    "else:\n",
    "    print(\"%.2fx + %.2f = 0: x = %.2f\" % (a, b, x))\n"
   ]
  },
  {
   "cell_type": "code",
   "execution_count": 24,
   "id": "0b0421ed",
   "metadata": {},
   "outputs": [
    {
     "name": "stdout",
     "output_type": "stream",
     "text": [
      "365\n"
     ]
    }
   ],
   "source": [
    "# Input\n",
    "y = int(input(\"Nhap nam: \"))\n",
    "\n",
    "# Process\n",
    "def isleap(y):\n",
    "    # Năm nhuận nếu chia hết cho 400 hoặc chia hết cho 4 nhưng không chia hết cho 100\n",
    "    return y % 400 == 0 or (y % 4 == 0 and y % 100 != 0)\n",
    "\n",
    "def daysyear(y):\n",
    "    if isleap(y):\n",
    "        return 366\n",
    "    else:\n",
    "        return 365\n",
    "\n",
    "# Gọi hàm tính số ngày\n",
    "ans = daysyear(y)\n",
    "\n",
    "# Output\n",
    "print(\"%d\" % ans)\n"
   ]
  },
  {
   "cell_type": "code",
   "execution_count": 25,
   "id": "f1e823cf",
   "metadata": {},
   "outputs": [
    {
     "name": "stdout",
     "output_type": "stream",
     "text": [
      "8.00 + 3.00 = 11.00\n"
     ]
    }
   ],
   "source": [
    "# Nhập dữ liệu\n",
    "a = float(input(\"Moi ban nhap so a: \"))\n",
    "b = float(input(\"Moi ban nhap so b: \"))\n",
    "pt = input(\"Moi ban nhap phep toan (+, -, *, /): \")\n",
    "\n",
    "# Xử lý và Xuất dữ liệu\n",
    "if pt == \"+\":\n",
    "    kq = a + b\n",
    "    print(\"%.2f + %.2f = %.2f\" % (a, b, kq))\n",
    "elif pt == \"-\":\n",
    "    kq = a - b\n",
    "    print(\"%.2f - %.2f = %.2f\" % (a, b, kq))\n",
    "elif pt == \"*\":\n",
    "    kq = a * b\n",
    "    print(\"%.2f * %.2f = %.2f\" % (a, b, kq))\n",
    "elif pt == \"/\":\n",
    "    if b == 0:\n",
    "        print(\"Khong tinh duoc (chia cho 0).\")\n",
    "    else:\n",
    "        kq = a / b\n",
    "        print(\"%.2f / %.2f = %.2f\" % (a, b, kq))\n",
    "else:\n",
    "    print(\"Phep toan khong hop le.\")\n"
   ]
  },
  {
   "cell_type": "code",
   "execution_count": 27,
   "id": "7611512a",
   "metadata": {},
   "outputs": [
    {
     "name": "stdout",
     "output_type": "stream",
     "text": [
      "The amount to pay for 187 kWh consumed in the month is 275,536 VND.\n"
     ]
    }
   ],
   "source": [
    "# Input\n",
    "old = int(input(\"Nhap chi so dien cu: \"))\n",
    "new = int(input(\"Nhap chi so dien moi: \"))\n",
    "kWh = new - old\n",
    "\n",
    "# Bảng giá điện\n",
    "def tinh_tien(kWh):\n",
    "    gia = [1242, 1304, 1651, 1788, 1912, 1962]\n",
    "    bac = [100, 50, 50, 100, 100]  # số kWh trong từng bậc\n",
    "    tien = 0\n",
    "    if kWh <= 0:\n",
    "        return 0\n",
    "    # Tính theo từng bậc\n",
    "    if kWh <= 100:\n",
    "        tien = kWh * gia[0]\n",
    "    elif kWh <= 150:\n",
    "        tien = 100 * gia[0] + (kWh - 100) * gia[1]\n",
    "    elif kWh <= 200:\n",
    "        tien = 100 * gia[0] + 50 * gia[1] + (kWh - 150) * gia[2]\n",
    "    elif kWh <= 300:\n",
    "        tien = 100 * gia[0] + 50 * gia[1] + 50 * gia[2] + (kWh - 200) * gia[3]\n",
    "    elif kWh <= 400:\n",
    "        tien = 100 * gia[0] + 50 * gia[1] + 50 * gia[2] + 100 * gia[3] + (kWh - 300) * gia[4]\n",
    "    else:\n",
    "        tien = 100 * gia[0] + 50 * gia[1] + 50 * gia[2] + 100 * gia[3] + 100 * gia[4] + (kWh - 400) * gia[5]\n",
    "    return tien\n",
    "\n",
    "# Tính tổng tiền và VAT\n",
    "tien = tinh_tien(kWh)\n",
    "tong = tien + tien * 0.10  # cộng thêm 10% VAT\n",
    "\n",
    "# Output\n",
    "print(\"The amount to pay for {} kWh consumed in the month is {:,.0f} VND.\".format(kWh, tong))\n",
    "\n"
   ]
  },
  {
   "cell_type": "code",
   "execution_count": 1,
   "id": "67d237c6",
   "metadata": {},
   "outputs": [
    {
     "name": "stdout",
     "output_type": "stream",
     "text": [
      "Previous day of 1/1/2015 is 31/12/2014.\n"
     ]
    }
   ],
   "source": [
    "# Hàm kiểm tra năm nhuận\n",
    "def is_leap(year):\n",
    "    return (year % 400 == 0) or (year % 4 == 0 and year % 100 != 0)\n",
    "\n",
    "# Hàm trả về số ngày của một tháng\n",
    "def days_in_month(month, year):\n",
    "    if month in [1, 3, 5, 7, 8, 10, 12]:\n",
    "        return 31\n",
    "    elif month in [4, 6, 9, 11]:\n",
    "        return 30\n",
    "    elif month == 2:\n",
    "        return 29 if is_leap(year) else 28\n",
    "    else:\n",
    "        return 0\n",
    "\n",
    "# Hàm tìm ngày trước đó\n",
    "def previous_day(d, m, y):\n",
    "    if d == 1 and m == 1:  # ngày đầu năm\n",
    "        return 31, 12, y - 1\n",
    "    elif d == 1:  # ngày đầu tháng\n",
    "        prev_month = m - 1\n",
    "        return days_in_month(prev_month, y), prev_month, y\n",
    "    else:  # còn lại\n",
    "        return d - 1, m, y\n",
    "\n",
    "# Input\n",
    "d = int(input(\"Nhap ngay: \"))\n",
    "m = int(input(\"Nhap thang: \"))\n",
    "y = int(input(\"Nhap nam: \"))\n",
    "\n",
    "# Process\n",
    "pd, pm, py = previous_day(d, m, y)\n",
    "\n",
    "# Output\n",
    "print(f\"Previous day of {d}/{m}/{y} is {pd}/{pm}/{py}.\")\n"
   ]
  },
  {
   "cell_type": "code",
   "execution_count": 2,
   "id": "250b9d4c",
   "metadata": {},
   "outputs": [
    {
     "name": "stdout",
     "output_type": "stream",
     "text": [
      "5.0, 3.0, 4.0 tao thanh mot tam giac.\n",
      "=> Kiem tra truc tiep: Day la mot tam giac.\n"
     ]
    }
   ],
   "source": [
    "def CheckTriangle():\n",
    "    # Nhập ba cạnh a, b, c\n",
    "    a = float(input(\"Nhap canh a: \"))\n",
    "    b = float(input(\"Nhap canh b: \"))\n",
    "    c = float(input(\"Nhap canh c: \"))\n",
    "\n",
    "    # Cách 1: dùng sort (sắp xếp)\n",
    "    sides = sorted([a, b, c])  # sides[0] <= sides[1] <= sides[2]\n",
    "    if sides[0] + sides[1] > sides[2]:\n",
    "        print(f\"{a}, {b}, {c} tao thanh mot tam giac.\")\n",
    "    else:\n",
    "        print(f\"{a}, {b}, {c} khong tao thanh mot tam giac.\")\n",
    "\n",
    "    # Cách 2: kiểm tra trực tiếp\n",
    "    if (a + b > c) and (a + c > b) and (b + c > a):\n",
    "        print(\"=> Kiem tra truc tiep: Day la mot tam giac.\")\n",
    "    else:\n",
    "        print(\"=> Kiem tra truc tiep: Khong phai tam giac.\")\n",
    "\n",
    "# Gọi hàm\n",
    "CheckTriangle()\n"
   ]
  },
  {
   "cell_type": "markdown",
   "id": "1a3370b5",
   "metadata": {},
   "source": [
    "BÀI TẬP THÊM"
   ]
  },
  {
   "cell_type": "code",
   "execution_count": 3,
   "id": "8d24f048",
   "metadata": {},
   "outputs": [
    {
     "name": "stdout",
     "output_type": "stream",
     "text": [
      "Gia tri nho nhat la: 1.0\n",
      "Gia tri lon nhat la: 8.0\n"
     ]
    }
   ],
   "source": [
    "def MaxMin5():\n",
    "    # Nhập 5 số a, b, c, d, e\n",
    "    a = float(input(\"Nhap so a: \"))\n",
    "    b = float(input(\"Nhap so b: \"))\n",
    "    c = float(input(\"Nhap so c: \"))\n",
    "    d = float(input(\"Nhap so d: \"))\n",
    "    e = float(input(\"Nhap so e: \"))\n",
    "\n",
    "    # Tìm min và max\n",
    "    smallest = min(a, b, c, d, e)\n",
    "    largest = max(a, b, c, d, e)\n",
    "\n",
    "    # In kết quả\n",
    "    print(f\"Gia tri nho nhat la: {smallest}\")\n",
    "    print(f\"Gia tri lon nhat la: {largest}\")\n",
    "\n",
    "# Gọi hàm\n",
    "MaxMin5()\n"
   ]
  },
  {
   "cell_type": "code",
   "execution_count": 4,
   "id": "13d71436",
   "metadata": {},
   "outputs": [
    {
     "name": "stdout",
     "output_type": "stream",
     "text": [
      "x1=2.00, x2=3.00\n"
     ]
    }
   ],
   "source": [
    "import math\n",
    "\n",
    "def SolvQuadEq():\n",
    "    # Nhập hệ số a, b, c\n",
    "    a = float(input(\"Nhap a: \"))\n",
    "    b = float(input(\"Nhap b: \"))\n",
    "    c = float(input(\"Nhap c: \"))\n",
    "\n",
    "    # Trường hợp đặc biệt\n",
    "    if a == 0 and b == 0 and c == 0:\n",
    "        print(\"Unlimited solutions\")\n",
    "    elif a == 0 and b == 0:\n",
    "        print(\"No solution\")\n",
    "    elif a == 0:\n",
    "        x = -c / b\n",
    "        print(f\"x1={x:.2f}\")\n",
    "    else:\n",
    "        # Tính delta\n",
    "        delta = b**2 - 4*a*c\n",
    "        if delta < 0:\n",
    "            print(\"No solution\")\n",
    "        elif delta == 0:\n",
    "            x = -b / (2*a)\n",
    "            print(f\"x1={x:.2f}\")\n",
    "        else:\n",
    "            x1 = (-b - math.sqrt(delta)) / (2*a)\n",
    "            x2 = (-b + math.sqrt(delta)) / (2*a)\n",
    "            print(f\"x1={x1:.2f}, x2={x2:.2f}\")\n",
    "\n",
    "# Gọi hàm\n",
    "SolvQuadEq()\n"
   ]
  },
  {
   "cell_type": "code",
   "execution_count": 5,
   "id": "8f959f05",
   "metadata": {},
   "outputs": [
    {
     "name": "stdout",
     "output_type": "stream",
     "text": [
      "So ngay trong thang 2 nam 2024 la: 29\n"
     ]
    }
   ],
   "source": [
    "def TotalDayMonth():\n",
    "    month = int(input(\"Nhap thang: \"))\n",
    "    year = int(input(\"Nhap nam: \"))\n",
    "\n",
    "    if month in [1, 3, 5, 7, 8, 10, 12]:\n",
    "        days = 31\n",
    "    elif month in [4, 6, 9, 11]:\n",
    "        days = 30\n",
    "    elif month == 2:\n",
    "        # Kiểm tra năm nhuận\n",
    "        if (year % 400 == 0) or (year % 4 == 0 and year % 100 != 0):\n",
    "            days = 29\n",
    "        else:\n",
    "            days = 28\n",
    "    else:\n",
    "        print(\"Thang khong hop le!\")\n",
    "        return\n",
    "\n",
    "    print(f\"So ngay trong thang {month} nam {year} la: {days}\")\n",
    "\n",
    "# Gọi hàm\n",
    "TotalDayMonth()\n"
   ]
  },
  {
   "cell_type": "code",
   "execution_count": 6,
   "id": "5bbb1508",
   "metadata": {},
   "outputs": [
    {
     "name": "stdout",
     "output_type": "stream",
     "text": [
      "Chữ số lớn nhất của 2387 là: 8\n"
     ]
    }
   ],
   "source": [
    "# Bài 4: Chữ số lớn nhất\n",
    "\n",
    "# Nhập số tự nhiên n có 4 chữ số\n",
    "n = int(input(\"Nhập số tự nhiên n có 4 chữ số: \"))\n",
    "\n",
    "# Cách 1: Dùng vòng lặp để duyệt từng chữ số\n",
    "max_digit = 0\n",
    "temp = n\n",
    "while temp > 0:\n",
    "    digit = temp % 10   # Lấy chữ số cuối\n",
    "    if digit > max_digit:\n",
    "        max_digit = digit\n",
    "    temp //= 10         # Bỏ chữ số cuối\n",
    "\n",
    "print(\"Chữ số lớn nhất của\", n, \"là:\", max_digit)\n",
    "\n",
    "\n",
    "# Cách 2: (Ngắn gọn hơn, dùng chuỗi)\n",
    "# max_digit = max(str(n))\n",
    "# print(\"Chữ số lớn nhất là:\", max_digit)\n"
   ]
  },
  {
   "cell_type": "code",
   "execution_count": 7,
   "id": "0161610b",
   "metadata": {},
   "outputs": [
    {
     "name": "stdout",
     "output_type": "stream",
     "text": [
      "Average point = 6.67, rating Pretty.\n"
     ]
    }
   ],
   "source": [
    "# Bài 5: Điểm trung bình\n",
    "\n",
    "# Nhập điểm\n",
    "math = float(input(\"Nhập điểm Toán: \"))\n",
    "phys = float(input(\"Nhập điểm Lý: \"))\n",
    "chem = float(input(\"Nhập điểm Hóa: \"))\n",
    "\n",
    "# Tính điểm trung bình theo công thức\n",
    "dtb = (math * 2 + phys * 3 + chem) / 6\n",
    "\n",
    "# Xếp loại\n",
    "if 8 <= dtb <= 10:\n",
    "    rating = \"Good\"\n",
    "elif 6.5 <= dtb < 8:\n",
    "    rating = \"Pretty\"\n",
    "elif 5 <= dtb < 6.5:\n",
    "    rating = \"Average\"\n",
    "else:\n",
    "    rating = \"Weak\"\n",
    "\n",
    "# In kết quả (làm tròn 2 chữ số thập phân)\n",
    "print(f\"Average point = {dtb:.2f}, rating {rating}.\")\n"
   ]
  },
  {
   "cell_type": "code",
   "execution_count": 8,
   "id": "9534da3a",
   "metadata": {},
   "outputs": [
    {
     "name": "stdout",
     "output_type": "stream",
     "text": [
      "Hộ gia đình có 3 người, tiêu thụ 15 m³ nước.\n",
      "Tổng tiền phải trả là: 89355 Đ.\n",
      "\n",
      "Payment for 2 m³ in month is 10120 Đ.\n"
     ]
    }
   ],
   "source": [
    "def calculate_water_bill(consumed_m3, num_people):\n",
    "    \"\"\"\n",
    "    Tính tiền nước sinh hoạt hàng tháng cho một hộ gia đình.\n",
    "\n",
    "    Args:\n",
    "        consumed_m3 (float): Lượng nước tiêu thụ trong tháng (m³).\n",
    "        num_people (int): Số người trong gia đình.\n",
    "\n",
    "    Returns:\n",
    "        float: Tổng số tiền phải trả, làm tròn đến hàng đơn vị.\n",
    "    \"\"\"\n",
    "    \n",
    "    # Định nghĩa các mức giá và định mức sử dụng\n",
    "    price_tier1 = 4400  # 4 m³ đầu tiên\n",
    "    price_tier2 = 8300  # 2 m³ kế tiếp\n",
    "    price_tier3 = 10500 # Các m³ còn lại\n",
    "\n",
    "    # Thuế và phí\n",
    "    vat_rate = 0.05\n",
    "    environmental_fee_rate = 0.10\n",
    "\n",
    "    # Tính định mức sử dụng\n",
    "    quota_tier1 = 4 * num_people\n",
    "    quota_tier2 = 2 * num_people + quota_tier1\n",
    "\n",
    "    # Tính tiền nước\n",
    "    total_water_cost = 0\n",
    "    remaining_m3 = consumed_m3\n",
    "\n",
    "    # Mức 1\n",
    "    if remaining_m3 > 0:\n",
    "        tier1_consumed = min(remaining_m3, quota_tier1)\n",
    "        total_water_cost += tier1_consumed * price_tier1\n",
    "        remaining_m3 -= tier1_consumed\n",
    "    \n",
    "    # Mức 2\n",
    "    if remaining_m3 > 0:\n",
    "        tier2_consumed = min(remaining_m3, quota_tier2 - quota_tier1)\n",
    "        total_water_cost += tier2_consumed * price_tier2\n",
    "        remaining_m3 -= tier2_consumed\n",
    "        \n",
    "    # Mức 3\n",
    "    if remaining_m3 > 0:\n",
    "        total_water_cost += remaining_m3 * price_tier3\n",
    "\n",
    "    # Tính thuế VAT và phí bảo vệ môi trường\n",
    "    vat_amount = total_water_cost * vat_rate\n",
    "    environmental_fee_amount = total_water_cost * environmental_fee_rate\n",
    "\n",
    "    # Tính tổng tiền phải trả\n",
    "    final_bill = total_water_cost + vat_amount + environmental_fee_amount\n",
    "\n",
    "    return round(final_bill)\n",
    "\n",
    "# Ví dụ sử dụng:\n",
    "# Giả sử hộ gia đình có 3 người và tiêu thụ 15 m³ nước\n",
    "consumed_m3_example = 15\n",
    "num_people_example = 3\n",
    "bill_amount = calculate_water_bill(consumed_m3_example, num_people_example)\n",
    "print(f\"Hộ gia đình có {num_people_example} người, tiêu thụ {consumed_m3_example} m³ nước.\")\n",
    "print(f\"Tổng tiền phải trả là: {bill_amount} Đ.\")\n",
    "\n",
    "# Ví dụ khác theo ảnh đính kèm (2m³ cho 1 người)\n",
    "consumed_m3_example_2 = 2\n",
    "num_people_example_2 = 1\n",
    "bill_amount_2 = calculate_water_bill(consumed_m3_example_2, num_people_example_2)\n",
    "print(f\"\\nPayment for {consumed_m3_example_2} m³ in month is {bill_amount_2} Đ.\")"
   ]
  },
  {
   "cell_type": "code",
   "execution_count": 9,
   "id": "80698481",
   "metadata": {},
   "outputs": [
    {
     "name": "stdout",
     "output_type": "stream",
     "text": [
      "Ngày 31/1/2015 thì ngày tiếp theo là: 1/2/2015\n",
      "Ngày 28/2/2024 thì ngày tiếp theo là: 29/2/2024\n",
      "Ngày 29/2/2024 thì ngày tiếp theo là: 1/3/2024\n",
      "Ngày 28/2/2023 thì ngày tiếp theo là: 1/3/2023\n"
     ]
    }
   ],
   "source": [
    "from datetime import date, timedelta\n",
    "\n",
    "def find_next_day(day, month, year):\n",
    "    \"\"\"\n",
    "    Tìm ngày tiếp theo của một ngày, tháng, năm cho trước.\n",
    "\n",
    "    Args:\n",
    "        day (int): Ngày.\n",
    "        month (int): Tháng.\n",
    "        year (int): Năm.\n",
    "\n",
    "    Returns:\n",
    "        str: Ngày tiếp theo dưới định dạng 'ngày/tháng/năm'.\n",
    "    \"\"\"\n",
    "    try:\n",
    "        # Tạo đối tượng ngày từ các giá trị đầu vào\n",
    "        current_date = date(year, month, day)\n",
    "        \n",
    "        # Thêm 1 ngày\n",
    "        next_date = current_date + timedelta(days=1)\n",
    "        \n",
    "        # Trả về kết quả dưới định dạng 'ngày/tháng/năm'\n",
    "        return f\"{next_date.day}/{next_date.month}/{next_date.year}\"\n",
    "        \n",
    "    except ValueError:\n",
    "        return \"Ngày tháng không hợp lệ.\"\n",
    "\n",
    "# Ví dụ sử dụng theo đề bài\n",
    "day = 31\n",
    "month = 1\n",
    "year = 2015\n",
    "next_day_result = find_next_day(day, month, year)\n",
    "print(f\"Ngày {day}/{month}/{year} thì ngày tiếp theo là: {next_day_result}\")\n",
    "\n",
    "# Ví dụ khác: Năm nhuận\n",
    "day = 28\n",
    "month = 2\n",
    "year = 2024 # 2024 là năm nhuận\n",
    "next_day_result_leap = find_next_day(day, month, year)\n",
    "print(f\"Ngày {day}/{month}/{year} thì ngày tiếp theo là: {next_day_result_leap}\")\n",
    "\n",
    "day = 29\n",
    "month = 2\n",
    "year = 2024 # Ngày 29/02/2024\n",
    "next_day_result_leap_2 = find_next_day(day, month, year)\n",
    "print(f\"Ngày {day}/{month}/{year} thì ngày tiếp theo là: {next_day_result_leap_2}\")\n",
    "\n",
    "day = 28\n",
    "month = 2\n",
    "year = 2023 # 2023 không phải năm nhuận\n",
    "next_day_result_no_leap = find_next_day(day, month, year)\n",
    "print(f\"Ngày {day}/{month}/{year} thì ngày tiếp theo là: {next_day_result_no_leap}\")"
   ]
  },
  {
   "cell_type": "code",
   "execution_count": 10,
   "id": "a86545b4",
   "metadata": {},
   "outputs": [
    {
     "name": "stdout",
     "output_type": "stream",
     "text": [
      "156 has 3 digits.\n",
      "1 + 5 + 6 = 12.\n",
      "Last digit is 6.\n",
      "Fist digit is 1.\n",
      "\n",
      "--- Ví dụ khác ---\n",
      "7 has 1 digits.\n",
      "7 = 7.\n",
      "Last digit is 7.\n",
      "Fist digit is 7.\n"
     ]
    }
   ],
   "source": [
    "def number_info(n):\n",
    "    \"\"\"\n",
    "    Phân tích các thuộc tính của một số tự nhiên n.\n",
    "\n",
    "    Args:\n",
    "        n (int): Một số tự nhiên nhỏ hơn 1000.\n",
    "\n",
    "    Returns:\n",
    "        tuple: Một tuple chứa (số chữ số, tổng chữ số, chữ số cuối, chữ số đầu).\n",
    "    \"\"\"\n",
    "    \n",
    "    # Đảm bảo n là số nguyên dương và nhỏ hơn 1000\n",
    "    if not isinstance(n, int) or n < 0 or n >= 1000:\n",
    "        return \"Số không hợp lệ. Vui lòng nhập số nguyên dương nhỏ hơn 1000.\"\n",
    "\n",
    "    # a. Đếm số chữ số\n",
    "    # Cách đơn giản nhất là chuyển số thành chuỗi và dùng hàm len()\n",
    "    num_digits = len(str(n))\n",
    "\n",
    "    # b. Tính tổng các chữ số\n",
    "    # Lặp qua từng chữ số của chuỗi đã chuyển đổi và cộng dồn\n",
    "    sum_digits = sum(int(digit) for digit in str(n))\n",
    "\n",
    "    # c. Tìm chữ số cuối cùng\n",
    "    # Dùng phép chia lấy dư cho 10\n",
    "    last_digit = n % 10\n",
    "\n",
    "    # d. Tìm chữ số đầu tiên\n",
    "    # Chuyển số thành chuỗi và lấy ký tự đầu tiên, sau đó chuyển lại thành số\n",
    "    first_digit = int(str(n)[0])\n",
    "\n",
    "    return num_digits, sum_digits, last_digit, first_digit\n",
    "\n",
    "# Ví dụ sử dụng theo đề bài với input là 156\n",
    "input_number = 156\n",
    "num_digits, sum_digits, last_digit, first_digit = number_info(input_number)\n",
    "\n",
    "print(f\"{input_number} has {num_digits} digits.\")\n",
    "print(f\"1 + 5 + 6 = {sum_digits}.\")\n",
    "print(f\"Last digit is {last_digit}.\")\n",
    "print(f\"Fist digit is {first_digit}.\")\n",
    "\n",
    "# Ví dụ khác với input là 7\n",
    "print(\"\\n--- Ví dụ khác ---\")\n",
    "input_number_2 = 7\n",
    "num_digits_2, sum_digits_2, last_digit_2, first_digit_2 = number_info(input_number_2)\n",
    "\n",
    "print(f\"{input_number_2} has {num_digits_2} digits.\")\n",
    "print(f\"{input_number_2} = {sum_digits_2}.\")\n",
    "print(f\"Last digit is {last_digit_2}.\")\n",
    "print(f\"Fist digit is {first_digit_2}.\")"
   ]
  },
  {
   "cell_type": "markdown",
   "id": "1c51fc5c",
   "metadata": {},
   "source": [
    "CẤU TRÚC LẶP VÀ LIST "
   ]
  },
  {
   "cell_type": "code",
   "execution_count": 11,
   "id": "13c6f424",
   "metadata": {},
   "outputs": [
    {
     "name": "stdout",
     "output_type": "stream",
     "text": [
      "Danh sách gốc: ['3', '27', '5', '123', '9', '1']\n",
      "---\n",
      "Sắp xếp theo thứ tự từ điển (String Compare):\n",
      "['1', '123', '27', '3', '5', '9']\n",
      "---\n",
      "Sắp xếp theo giá trị số (Integer Compare):\n",
      "['1', '3', '5', '9', '27', '123']\n"
     ]
    }
   ],
   "source": [
    "def sort_string_list(data_list):\n",
    "    \"\"\"\n",
    "    Sắp xếp một danh sách các chuỗi số theo hai cách: \n",
    "    so sánh chuỗi và so sánh số nguyên.\n",
    "\n",
    "    Args:\n",
    "        data_list (list): Danh sách các chuỗi số.\n",
    "\n",
    "    Returns:\n",
    "        tuple: Một tuple chứa hai danh sách đã sắp xếp:\n",
    "               (sắp xếp theo chuỗi, sắp xếp theo số nguyên)\n",
    "    \"\"\"\n",
    "    # Sắp xếp theo chuỗi (String Compare)\n",
    "    # sorted() mặc định sắp xếp các chuỗi theo thứ tự từ điển\n",
    "    string_sorted_list = sorted(data_list)\n",
    "    \n",
    "    # Sắp xếp theo số nguyên (Integer Compare)\n",
    "    # Sử dụng key=int để chuyển đổi mỗi chuỗi thành số nguyên trước khi so sánh\n",
    "    integer_sorted_list = sorted(data_list, key=int)\n",
    "    \n",
    "    return string_sorted_list, integer_sorted_list\n",
    "\n",
    "# Dữ liệu đầu vào theo đề bài\n",
    "A = ['3', '27', '5', '123', '9', '1']\n",
    "\n",
    "# Thực hiện sắp xếp\n",
    "string_compare_result, integer_compare_result = sort_string_list(A)\n",
    "\n",
    "# Hiển thị kết quả\n",
    "print(\"Danh sách gốc:\", A)\n",
    "print(\"---\")\n",
    "print(\"Sắp xếp theo thứ tự từ điển (String Compare):\")\n",
    "print(string_compare_result)\n",
    "print(\"---\")\n",
    "print(\"Sắp xếp theo giá trị số (Integer Compare):\")\n",
    "print(integer_compare_result)"
   ]
  },
  {
   "cell_type": "code",
   "execution_count": 12,
   "id": "b6d767eb",
   "metadata": {},
   "outputs": [
    {
     "name": "stdout",
     "output_type": "stream",
     "text": [
      "[70, 88, 155]\n"
     ]
    }
   ],
   "source": [
    "# Danh sách gốc\n",
    "original_list = [12, 24, 35, 70, 88, 120, 155]\n",
    "\n",
    "# Danh sách các chỉ số cần xóa (vị trí thứ 1, 2, 3, 6 tương ứng với index 0, 1, 2, 5)\n",
    "indices_to_remove = [0, 1, 2, 5]\n",
    "\n",
    "# Sử dụng list comprehension và enumerate() để tạo danh sách mới\n",
    "# Chỉ giữ lại các phần tử có chỉ số (index) không nằm trong danh sách cần xóa\n",
    "new_list = [element for index, element in enumerate(original_list) if index not in indices_to_remove]\n",
    "\n",
    "# In danh sách sau khi đã xóa\n",
    "print(new_list)"
   ]
  },
  {
   "cell_type": "code",
   "execution_count": 13,
   "id": "9f444d81",
   "metadata": {},
   "outputs": [
    {
     "name": "stdout",
     "output_type": "stream",
     "text": [
      "Input A = [1, 2, 3, 1, 2, 5, 6, 7, 8]\n",
      "Output B = [1, 2, 3, 5, 6, 7, 8]\n"
     ]
    }
   ],
   "source": [
    "def remove_duplicates_comprehension(input_list):\n",
    "    \"\"\"\n",
    "    Xóa các phần tử trùng lặp trong một danh sách bằng list comprehension.\n",
    "\n",
    "    Args:\n",
    "        input_list (list): Danh sách có chứa các phần tử trùng lặp.\n",
    "\n",
    "    Returns:\n",
    "        list: Danh sách mới chỉ chứa các phần tử duy nhất.\n",
    "    \"\"\"\n",
    "    # Lặp qua từng phần tử và chỉ giữ lại nếu chỉ số của nó là lần xuất hiện đầu tiên.\n",
    "    unique_list = [item for index, item in enumerate(input_list) \n",
    "                   if input_list.index(item) == index]\n",
    "    return unique_list\n",
    "\n",
    "# Ví dụ sử dụng theo đề bài\n",
    "A = [1, 2, 3, 1, 2, 5, 6, 7, 8]\n",
    "B = remove_duplicates_comprehension(A)\n",
    "print(f\"Input A = {A}\")\n",
    "print(f\"Output B = {B}\")"
   ]
  },
  {
   "cell_type": "code",
   "execution_count": 15,
   "id": "d9a19445",
   "metadata": {},
   "outputs": [
    {
     "name": "stdout",
     "output_type": "stream",
     "text": [
      "Input A = [1, 1, 1, 1, 2, 2, 2, 2, 3, 3, 4, 5, 5]\n",
      "Output: 1:4, 2:4, 3:2, 4:1, 5:2\n"
     ]
    }
   ],
   "source": [
    "def count_elements_sorted(input_list):\n",
    "    \"\"\"\n",
    "    Đếm số lần xuất hiện bằng cách sắp xếp danh sách trước.\n",
    "\n",
    "    Args:\n",
    "        input_list (list): Danh sách cần đếm.\n",
    "\n",
    "    Returns:\n",
    "        list: Một danh sách các cặp (phần tử, số lần xuất hiện).\n",
    "    \"\"\"\n",
    "    if not input_list:\n",
    "        return []\n",
    "    \n",
    "    # Sắp xếp danh sách để các phần tử giống nhau đứng cạnh nhau\n",
    "    sorted_list = sorted(input_list)\n",
    "    \n",
    "    result = []\n",
    "    current_item = sorted_list[0]\n",
    "    count = 1\n",
    "    \n",
    "    for i in range(1, len(sorted_list)):\n",
    "        if sorted_list[i] == current_item:\n",
    "            count += 1\n",
    "        else:\n",
    "            result.append(f\"{current_item}:{count}\")\n",
    "            current_item = sorted_list[i]\n",
    "            count = 1\n",
    "            \n",
    "    # Thêm cặp cuối cùng vào kết quả\n",
    "    result.append(f\"{current_item}:{count}\")\n",
    "    \n",
    "    return result\n",
    "\n",
    "# Dữ liệu đầu vào theo đề bài\n",
    "A = [1, 1, 1, 1, 2, 2, 2, 2, 3, 3, 4, 5, 5]\n",
    "counted_list = count_elements_sorted(A)\n",
    "\n",
    "# Hiển thị kết quả dưới dạng chuỗi\n",
    "output_string = \", \".join(counted_list)\n",
    "print(f\"Input A = {A}\")\n",
    "print(f\"Output: {output_string}\")"
   ]
  }
 ],
 "metadata": {
  "kernelspec": {
   "display_name": "Python 3 (ipykernel)",
   "language": "python",
   "name": "python3"
  },
  "language_info": {
   "codemirror_mode": {
    "name": "ipython",
    "version": 3
   },
   "file_extension": ".py",
   "mimetype": "text/x-python",
   "name": "python",
   "nbconvert_exporter": "python",
   "pygments_lexer": "ipython3",
   "version": "3.12.1"
  }
 },
 "nbformat": 4,
 "nbformat_minor": 5
}
