{
 "cells": [
  {
   "cell_type": "code",
   "execution_count": 1,
   "id": "ed2f14e6-a83b-41ec-8cdc-b878c9fffd28",
   "metadata": {},
   "outputs": [
    {
     "name": "stdout",
     "output_type": "stream",
     "text": [
      "Whoever is happy will make others happy too\n",
      "--Anne Frank\n"
     ]
    }
   ],
   "source": [
    "print(\"Whoever is happy will make others happy too\");\n",
    "print(\"--Anne Frank\");"
   ]
  },
  {
   "cell_type": "code",
   "execution_count": 1,
   "id": "e8a2f1e1-e3f9-4587-aec3-fa56a13ccee6",
   "metadata": {},
   "outputs": [
    {
     "name": "stdout",
     "output_type": "stream",
     "text": [
      "Cac ket qua tinh toan: \n",
      "5     + 6     =    11\n",
      "5     - 6     =    -1\n",
      "5     * 6     =    30\n",
      "5     // 6     =     0\n",
      "5     % 6     =     5\n",
      "5     / 6     =  0.83\n"
     ]
    }
   ],
   "source": [
    "# Nhập dữ liệu \n",
    "a = int(input(\"Moi ban nhap so a: \"))\n",
    "b = int(input(\"Moi ban nhap so b: \"))\n",
    "\n",
    "# Xử lý\n",
    "kqCong = a + b\n",
    "kqTru = a - b\n",
    "kqNhan = a * b\n",
    "kqChiaNguyen = a // b\n",
    "kqDu = a % b\n",
    "kqChiaThuc = a / b\n",
    "\n",
    "# Xuất dữ liệu\n",
    "print(\"Cac ket qua tinh toan: \")\n",
    "print(\"%-5d + %-5d = %5d\" % (a, b, kqCong))\n",
    "print(\"%-5d - %-5d = %5d\" % (a, b, kqTru))\n",
    "print(\"%-5d * %-5d = %5d\" % (a, b, kqNhan))\n",
    "print(\"%-5d // %-5d = %5d\" % (a, b, kqChiaNguyen))\n",
    "print(\"%-5d %% %-5d = %5d\" % (a, b, kqDu))\n",
    "print(\"%-5d / %-5d = %5.2f\" % (a, b, kqChiaThuc))\n",
    "\n",
    "\n"
   ]
  },
  {
   "cell_type": "code",
   "execution_count": 2,
   "id": "38540954",
   "metadata": {},
   "outputs": [
    {
     "name": "stdout",
     "output_type": "stream",
     "text": [
      "Ket qua so sanh hai so thuc 2.50 va 6.80:\n",
      "2.50     <  6.80    : True\n",
      "2.50     <= 6.80    : True\n",
      "2.50     >  6.80    : False\n",
      "2.50     >= 6.80    : False\n",
      "2.50     == 6.80    : False\n",
      "2.50     != 6.80    : True\n"
     ]
    }
   ],
   "source": [
    "# Nhập dữ liệu\n",
    "a = float(input(\"Moi ban nhap so a: \"))\n",
    "b = float(input(\"Moi ban nhap so b: \"))\n",
    "\n",
    "# Xử lý\n",
    "laNhoHon = (a < b)\n",
    "laNhoHonBang = (a <= b)\n",
    "laLonHon = (a > b)\n",
    "laLonHonBang = (a >= b)\n",
    "laBang = (a == b)\n",
    "laKhacNhau = (a != b)\n",
    "\n",
    "# Xuất dữ liệu\n",
    "print(\"Ket qua so sanh hai so thuc %.2f va %.2f:\" % (a, b))\n",
    "print(\"%-8.2f <  %-8.2f: %s\" % (a, b, laNhoHon))\n",
    "print(\"%-8.2f <= %-8.2f: %s\" % (a, b, laNhoHonBang))\n",
    "print(\"%-8.2f >  %-8.2f: %s\" % (a, b, laLonHon))\n",
    "print(\"%-8.2f >= %-8.2f: %s\" % (a, b, laLonHonBang))\n",
    "print(\"%-8.2f == %-8.2f: %s\" % (a, b, laBang))\n",
    "print(\"%-8.2f != %-8.2f: %s\" % (a, b, laKhacNhau))\n"
   ]
  },
  {
   "cell_type": "code",
   "execution_count": 3,
   "id": "0f3cc4f7",
   "metadata": {},
   "outputs": [
    {
     "name": "stdout",
     "output_type": "stream",
     "text": [
      "Gia tri cua ham so f(2.30) = 3.27.\n"
     ]
    }
   ],
   "source": [
    "# Nạp thư viện\n",
    "import math\n",
    "\n",
    "# Nhập dữ liệu\n",
    "x = float(input(\"Moi ban nhap vao gia tri cua bien so x: \"))\n",
    "\n",
    "# Xử lý\n",
    "fx = x + math.pow(x, 5) / (1 * 2 * 3 * 4 * 5) + \\\n",
    "     math.sqrt(abs(x)) / math.pow(x, 3.0 / 2)\n",
    "\n",
    "# Xuất dữ liệu\n",
    "print(\"Gia tri cua ham so f(%.2f) = %.2f.\" % (x, fx))\n"
   ]
  },
  {
   "cell_type": "code",
   "execution_count": 4,
   "id": "a0f10200",
   "metadata": {},
   "outputs": [
    {
     "name": "stdout",
     "output_type": "stream",
     "text": [
      "Gia tri cua ham so f(1234.00) = 23844847676662.54.\n"
     ]
    }
   ],
   "source": [
    "# Nạp thư viện\n",
    "import math\n",
    "\n",
    "# Nhập dữ liệu\n",
    "x = float(input(\"Moi ban nhap vao gia tri cua bien so x: \"))\n",
    "\n",
    "# Xử lý\n",
    "fx = x + math.pow(x, 5) / (1 * 2 * 3 * 4 * 5) + \\\n",
    "     math.sqrt(abs(x)) / math.pow(x, 3.0 / 2)\n",
    "\n",
    "# Xuất dữ liệu\n",
    "print(\"Gia tri cua ham so f(%.2f) = %.2f.\" % (x, fx))\n"
   ]
  },
  {
   "cell_type": "markdown",
   "id": "54df88f6",
   "metadata": {},
   "source": [
    "Bài tập thực hành tự làm"
   ]
  },
  {
   "cell_type": "code",
   "execution_count": 5,
   "id": "ef89518f",
   "metadata": {},
   "outputs": [
    {
     "name": "stdout",
     "output_type": "stream",
     "text": [
      "******************************\n",
      "* Truong: Dai Hoc UEH        *\n",
      "* Khoa: CNTT                 *\n",
      "* Ho ten:                    *\n",
      "******************************\n"
     ]
    }
   ],
   "source": [
    "def InNhan():\n",
    "    print(\"******************************\")\n",
    "    print(\"* Truong: Dai Hoc UEH        *\")\n",
    "    print(\"* Khoa: CNTT                 *\")\n",
    "    print(\"* Ho ten:                    *\")\n",
    "    print(\"******************************\")\n",
    "\n",
    "# Gọi hàm để chạy\n",
    "InNhan()\n"
   ]
  },
  {
   "cell_type": "code",
   "execution_count": 6,
   "id": "d32c61f4",
   "metadata": {},
   "outputs": [
    {
     "name": "stdout",
     "output_type": "stream",
     "text": [
      "Dien tich S = 78.5\n",
      "Chu vi P = 31.4\n"
     ]
    }
   ],
   "source": [
    "def HinhTron():\n",
    "    R = float(input(\"Nhap ban kinh R: \"))\n",
    "    S = 3.14 * R * R\n",
    "    P = 2 * 3.14 * R\n",
    "    print(\"Dien tich S = {:.1f}\".format(S))\n",
    "    print(\"Chu vi P = {:.1f}\".format(P))\n",
    "\n",
    "# Gọi hàm để chạy\n",
    "HinhTron()\n"
   ]
  },
  {
   "cell_type": "code",
   "execution_count": 7,
   "id": "bed331ff",
   "metadata": {},
   "outputs": [
    {
     "name": "stdout",
     "output_type": "stream",
     "text": [
      "Tong so giay cua 1:20:10 la 4810 giay\n"
     ]
    }
   ],
   "source": [
    "def DoiSangGiay():\n",
    "    h = int(input(\"Nhap so gio: \"))\n",
    "    m = int(input(\"Nhap so phut: \"))\n",
    "    s = int(input(\"Nhap so giay: \"))\n",
    "\n",
    "    tong_giay = h * 3600 + m * 60 + s\n",
    "\n",
    "    print(f\"Tong so giay cua {h}:{m}:{s} la {tong_giay} giay\")\n",
    "\n",
    "# Gọi hàm để chạy\n",
    "DoiSangGiay()\n"
   ]
  },
  {
   "cell_type": "code",
   "execution_count": 8,
   "id": "1fe4f7b5",
   "metadata": {},
   "outputs": [
    {
     "name": "stdout",
     "output_type": "stream",
     "text": [
      "4810 giay co dang 1:20:10\n"
     ]
    }
   ],
   "source": [
    "def DoiSangGioPhutGiay():\n",
    "    t = int(input(\"Nhap vao tong so giay: \"))\n",
    "    \n",
    "    h = t // 3600\n",
    "    m = (t % 3600) // 60\n",
    "    s = t % 60\n",
    "    \n",
    "    print(f\"{t} giay co dang {h}:{m}:{s}\")\n",
    "\n",
    "# Gọi hàm để chạy\n",
    "DoiSangGioPhutGiay()\n"
   ]
  },
  {
   "cell_type": "code",
   "execution_count": 9,
   "id": "e998ccd3",
   "metadata": {},
   "outputs": [
    {
     "name": "stdout",
     "output_type": "stream",
     "text": [
      "Dien tich tam giac S = 2.90\n"
     ]
    }
   ],
   "source": [
    "import math\n",
    "\n",
    "def DienTichTamGiac():\n",
    "    a = float(input(\"Nhap do dai canh a: \"))\n",
    "    b = float(input(\"Nhap do dai canh b: \"))\n",
    "    c = float(input(\"Nhap do dai canh c: \"))\n",
    "\n",
    "    p = (a + b + c) / 2\n",
    "    S = math.sqrt(p * (p - a) * (p - b) * (p - c))\n",
    "\n",
    "    print(\"Dien tich tam giac S = {:.2f}\".format(S))\n",
    "\n",
    "# Gọi hàm để chạy\n",
    "DienTichTamGiac()\n"
   ]
  },
  {
   "cell_type": "code",
   "execution_count": 10,
   "id": "5a7bc42e",
   "metadata": {},
   "outputs": [
    {
     "name": "stdout",
     "output_type": "stream",
     "text": [
      "Ket qua 2.0^4 = 16.0\n"
     ]
    }
   ],
   "source": [
    "def TinhMu():\n",
    "    a = float(input(\"Nhap so thuc a: \"))\n",
    "    n = int(input(\"Nhap so mu n: \"))\n",
    "    \n",
    "    ket_qua = a ** n\n",
    "    \n",
    "    print(f\"Ket qua {a}^{n} = {ket_qua}\")\n",
    "\n",
    "# Gọi hàm để chạy\n",
    "TinhMu()\n"
   ]
  },
  {
   "cell_type": "code",
   "execution_count": 11,
   "id": "a6b4f6fb",
   "metadata": {},
   "outputs": [
    {
     "name": "stdout",
     "output_type": "stream",
     "text": [
      "So dao cua 1234 la 4321\n"
     ]
    }
   ],
   "source": [
    "def DaoSo():\n",
    "    x = int(input(\"Nhap so nguyen co 4 chu so: \"))\n",
    "    \n",
    "    # Đổi số sang chuỗi, đảo ngược rồi đổi lại thành số nguyên\n",
    "    y = int(str(x)[::-1])\n",
    "    \n",
    "    print(f\"So dao cua {x} la {y}\")\n",
    "\n",
    "# Gọi hàm để chạy\n",
    "DaoSo()\n"
   ]
  },
  {
   "cell_type": "code",
   "execution_count": 12,
   "id": "d30ed921",
   "metadata": {},
   "outputs": [
    {
     "name": "stdout",
     "output_type": "stream",
     "text": [
      "180.0 do = 3.1416 radian\n"
     ]
    }
   ],
   "source": [
    "import math\n",
    "\n",
    "def DoSangRadian():\n",
    "    do_goc = float(input(\"Nhap goc (do): \"))\n",
    "    radian = do_goc * math.pi / 180\n",
    "    print(f\"{do_goc} do = {radian:.4f} radian\")\n",
    "\n",
    "# Gọi hàm để chạy\n",
    "DoSangRadian()\n"
   ]
  },
  {
   "cell_type": "code",
   "execution_count": 13,
   "id": "5a1f1faf",
   "metadata": {},
   "outputs": [
    {
     "name": "stdout",
     "output_type": "stream",
     "text": [
      "y1 = 157.14\n",
      "y2 = 0.04\n"
     ]
    }
   ],
   "source": [
    "import math\n",
    "\n",
    "def HamSo1():\n",
    "    x = float(input(\"Nhap gia tri x: \"))\n",
    "\n",
    "    # Tính y1\n",
    "    y1 = 4 * (x**2 + 10*x*math.sqrt(x) + 3*x + 1)\n",
    "\n",
    "    # Tính y2\n",
    "    y2 = (math.sin(math.pi * x**2) + math.sqrt(x**2 + 1)) / (math.exp(2*x) + math.cos((math.pi/4) * x))\n",
    "\n",
    "    print(\"y1 = {:.2f}\".format(y1))\n",
    "    print(\"y2 = {:.2f}\".format(y2))\n",
    "\n",
    "# Gọi hàm để chạy\n",
    "HamSo1()\n"
   ]
  },
  {
   "cell_type": "code",
   "execution_count": 14,
   "id": "fc1bba03",
   "metadata": {},
   "outputs": [
    {
     "name": "stdout",
     "output_type": "stream",
     "text": [
      "Khoang cach giua A(1.00, 2.00) va B(4.00, 6.00) la: 5.00\n"
     ]
    }
   ],
   "source": [
    "import math\n",
    "\n",
    "def KhoangCach():\n",
    "    x1 = float(input(\"Nhap x1: \"))\n",
    "    y1 = float(input(\"Nhap y1: \"))\n",
    "    x2 = float(input(\"Nhap x2: \"))\n",
    "    y2 = float(input(\"Nhap y2: \"))\n",
    "\n",
    "    d = math.sqrt((x2 - x1)**2 + (y2 - y1)**2)\n",
    "\n",
    "    print(\"Khoang cach giua A({:.2f}, {:.2f}) va B({:.2f}, {:.2f}) la: {:.2f}\".format(x1, y1, x2, y2, d))\n",
    "\n",
    "# Gọi hàm để chạy\n",
    "KhoangCach()\n"
   ]
  },
  {
   "cell_type": "markdown",
   "id": "ff88990e",
   "metadata": {},
   "source": [
    "BÀI TẬP TRÊN LỚP"
   ]
  },
  {
   "cell_type": "code",
   "execution_count": 16,
   "id": "46f4a08c",
   "metadata": {},
   "outputs": [
    {
     "name": "stdout",
     "output_type": "stream",
     "text": [
      "Max(2, 5, 4) = 5\n"
     ]
    }
   ],
   "source": [
    "# Input a, b, c\n",
    "a = int(input(\"Nhap a: \"))\n",
    "b = int(input(\"Nhap b: \"))\n",
    "c = int(input(\"Nhap c: \"))\n",
    "\n",
    "# Hàm tìm max giữa 2 số\n",
    "def max_fn(a, b):\n",
    "    return a if a > b else b\n",
    "\n",
    "# Tìm max của a, b, c\n",
    "vmax = max_fn(a, b)\n",
    "vmax = max_fn(vmax, c)\n",
    "\n",
    "# Output\n",
    "print(\"Max(%d, %d, %d) = %d\" % (a, b, c, vmax))\n"
   ]
  },
  {
   "cell_type": "code",
   "execution_count": 17,
   "id": "ccbc9ab6",
   "metadata": {},
   "outputs": [
    {
     "name": "stdout",
     "output_type": "stream",
     "text": [
      "Max(2, 3, 4) = 4\n"
     ]
    }
   ],
   "source": [
    "# Input a, b, c\n",
    "a = int(input(\"Nhap a: \"))\n",
    "b = int(input(\"Nhap b: \"))\n",
    "c = int(input(\"Nhap c: \"))\n",
    "\n",
    "# max a, b, c\n",
    "def max3(a, b, c):\n",
    "    vmax = a if a > b else b\n",
    "    if vmax < c:\n",
    "        vmax = c\n",
    "    return vmax\n",
    "\n",
    "vmax = max3(a, b, c)\n",
    "\n",
    "# output\n",
    "print(\"Max(%d, %d, %d) = %d\" % (a, b, c, vmax))\n"
   ]
  },
  {
   "cell_type": "code",
   "execution_count": 18,
   "id": "60893677",
   "metadata": {},
   "outputs": [
    {
     "name": "stdout",
     "output_type": "stream",
     "text": [
      "2 3 4\n"
     ]
    }
   ],
   "source": [
    "# Input a, b, c\n",
    "a = int(input())\n",
    "b = int(input())\n",
    "c = int(input())\n",
    "\n",
    "# Đưa vào list\n",
    "arr = [a, b, c]\n",
    "\n",
    "# Sắp xếp tăng dần\n",
    "arr.sort()\n",
    "\n",
    "# Output\n",
    "print(arr[0], arr[1], arr[2])\n"
   ]
  },
  {
   "cell_type": "code",
   "execution_count": 21,
   "id": "dee190ab",
   "metadata": {},
   "outputs": [
    {
     "name": "stdout",
     "output_type": "stream",
     "text": [
      "0.00x + 10.00 = 0: no solution\n"
     ]
    }
   ],
   "source": [
    "# Input a, b with ax + b = 0\n",
    "a = float(input(\"Nhap a: \"))\n",
    "b = int(input(\"Nhap b: \"))\n",
    "\n",
    "# Process\n",
    "def solv1deg(a, b):\n",
    "    \"\"\"\n",
    "    Solve Equation ax + b = 0\n",
    "    \"\"\"\n",
    "    nsol, x = None, None\n",
    "    if a == 0:\n",
    "        if b == 0:\n",
    "            nsol = -1   # vô số nghiệm\n",
    "        else:\n",
    "            nsol = 0    # vô nghiệm\n",
    "    else:\n",
    "        nsol = 1        # có 1 nghiệm duy nhất\n",
    "        x = -b / a\n",
    "    return nsol, x\n",
    "\n",
    "\n",
    "# Gọi hàm giải phương trình\n",
    "nsol, x = solv1deg(a, b)\n",
    "\n",
    "# Output\n",
    "if nsol == -1:\n",
    "    print(\"%.2fx + %.2f = 0: unlimited solutions\" % (a, b))\n",
    "elif nsol == 0:\n",
    "    print(\"%.2fx + %.2f = 0: no solution\" % (a, b))\n",
    "else:\n",
    "    print(\"%.2fx + %.2f = 0: x = %.2f\" % (a, b, x))\n"
   ]
  },
  {
   "cell_type": "code",
   "execution_count": 24,
   "id": "0b0421ed",
   "metadata": {},
   "outputs": [
    {
     "name": "stdout",
     "output_type": "stream",
     "text": [
      "365\n"
     ]
    }
   ],
   "source": [
    "# Input\n",
    "y = int(input(\"Nhap nam: \"))\n",
    "\n",
    "# Process\n",
    "def isleap(y):\n",
    "    # Năm nhuận nếu chia hết cho 400 hoặc chia hết cho 4 nhưng không chia hết cho 100\n",
    "    return y % 400 == 0 or (y % 4 == 0 and y % 100 != 0)\n",
    "\n",
    "def daysyear(y):\n",
    "    if isleap(y):\n",
    "        return 366\n",
    "    else:\n",
    "        return 365\n",
    "\n",
    "# Gọi hàm tính số ngày\n",
    "ans = daysyear(y)\n",
    "\n",
    "# Output\n",
    "print(\"%d\" % ans)\n"
   ]
  },
  {
   "cell_type": "code",
   "execution_count": 25,
   "id": "f1e823cf",
   "metadata": {},
   "outputs": [
    {
     "name": "stdout",
     "output_type": "stream",
     "text": [
      "8.00 + 3.00 = 11.00\n"
     ]
    }
   ],
   "source": [
    "# Nhập dữ liệu\n",
    "a = float(input(\"Moi ban nhap so a: \"))\n",
    "b = float(input(\"Moi ban nhap so b: \"))\n",
    "pt = input(\"Moi ban nhap phep toan (+, -, *, /): \")\n",
    "\n",
    "# Xử lý và Xuất dữ liệu\n",
    "if pt == \"+\":\n",
    "    kq = a + b\n",
    "    print(\"%.2f + %.2f = %.2f\" % (a, b, kq))\n",
    "elif pt == \"-\":\n",
    "    kq = a - b\n",
    "    print(\"%.2f - %.2f = %.2f\" % (a, b, kq))\n",
    "elif pt == \"*\":\n",
    "    kq = a * b\n",
    "    print(\"%.2f * %.2f = %.2f\" % (a, b, kq))\n",
    "elif pt == \"/\":\n",
    "    if b == 0:\n",
    "        print(\"Khong tinh duoc (chia cho 0).\")\n",
    "    else:\n",
    "        kq = a / b\n",
    "        print(\"%.2f / %.2f = %.2f\" % (a, b, kq))\n",
    "else:\n",
    "    print(\"Phep toan khong hop le.\")\n"
   ]
  },
  {
   "cell_type": "code",
   "execution_count": 27,
   "id": "7611512a",
   "metadata": {},
   "outputs": [
    {
     "name": "stdout",
     "output_type": "stream",
     "text": [
      "The amount to pay for 187 kWh consumed in the month is 275,536 VND.\n"
     ]
    }
   ],
   "source": [
    "# Input\n",
    "old = int(input(\"Nhap chi so dien cu: \"))\n",
    "new = int(input(\"Nhap chi so dien moi: \"))\n",
    "kWh = new - old\n",
    "\n",
    "# Bảng giá điện\n",
    "def tinh_tien(kWh):\n",
    "    gia = [1242, 1304, 1651, 1788, 1912, 1962]\n",
    "    bac = [100, 50, 50, 100, 100]  # số kWh trong từng bậc\n",
    "    tien = 0\n",
    "    if kWh <= 0:\n",
    "        return 0\n",
    "    # Tính theo từng bậc\n",
    "    if kWh <= 100:\n",
    "        tien = kWh * gia[0]\n",
    "    elif kWh <= 150:\n",
    "        tien = 100 * gia[0] + (kWh - 100) * gia[1]\n",
    "    elif kWh <= 200:\n",
    "        tien = 100 * gia[0] + 50 * gia[1] + (kWh - 150) * gia[2]\n",
    "    elif kWh <= 300:\n",
    "        tien = 100 * gia[0] + 50 * gia[1] + 50 * gia[2] + (kWh - 200) * gia[3]\n",
    "    elif kWh <= 400:\n",
    "        tien = 100 * gia[0] + 50 * gia[1] + 50 * gia[2] + 100 * gia[3] + (kWh - 300) * gia[4]\n",
    "    else:\n",
    "        tien = 100 * gia[0] + 50 * gia[1] + 50 * gia[2] + 100 * gia[3] + 100 * gia[4] + (kWh - 400) * gia[5]\n",
    "    return tien\n",
    "\n",
    "# Tính tổng tiền và VAT\n",
    "tien = tinh_tien(kWh)\n",
    "tong = tien + tien * 0.10  # cộng thêm 10% VAT\n",
    "\n",
    "# Output\n",
    "print(\"The amount to pay for {} kWh consumed in the month is {:,.0f} VND.\".format(kWh, tong))\n",
    "\n"
   ]
  },
  {
   "cell_type": "code",
   "execution_count": 28,
   "id": "67d237c6",
   "metadata": {},
   "outputs": [
    {
     "name": "stdout",
     "output_type": "stream",
     "text": [
      "Previous day of 1/2/2015 is 31/1/2015.\n"
     ]
    }
   ],
   "source": [
    "# Hàm kiểm tra năm nhuận\n",
    "def is_leap(year):\n",
    "    return (year % 400 == 0) or (year % 4 == 0 and year % 100 != 0)\n",
    "\n",
    "# Hàm trả về số ngày của một tháng\n",
    "def days_in_month(month, year):\n",
    "    if month in [1, 3, 5, 7, 8, 10, 12]:\n",
    "        return 31\n",
    "    elif month in [4, 6, 9, 11]:\n",
    "        return 30\n",
    "    elif month == 2:\n",
    "        return 29 if is_leap(year) else 28\n",
    "    else:\n",
    "        return 0\n",
    "\n",
    "# Hàm tìm ngày trước đó\n",
    "def previous_day(d, m, y):\n",
    "    if d == 1 and m == 1:  # ngày đầu năm\n",
    "        return 31, 12, y - 1\n",
    "    elif d == 1:  # ngày đầu tháng\n",
    "        prev_month = m - 1\n",
    "        return days_in_month(prev_month, y), prev_month, y\n",
    "    else:  # còn lại\n",
    "        return d - 1, m, y\n",
    "\n",
    "# Input\n",
    "d = int(input(\"Nhap ngay: \"))\n",
    "m = int(input(\"Nhap thang: \"))\n",
    "y = int(input(\"Nhap nam: \"))\n",
    "\n",
    "# Process\n",
    "pd, pm, py = previous_day(d, m, y)\n",
    "\n",
    "# Output\n",
    "print(f\"Previous day of {d}/{m}/{y} is {pd}/{pm}/{py}.\")\n"
   ]
  }
 ],
 "metadata": {
  "kernelspec": {
   "display_name": "Python 3",
   "language": "python",
   "name": "python3"
  },
  "language_info": {
   "codemirror_mode": {
    "name": "ipython",
    "version": 3
   },
   "file_extension": ".py",
   "mimetype": "text/x-python",
   "name": "python",
   "nbconvert_exporter": "python",
   "pygments_lexer": "ipython3",
   "version": "3.12.1"
  }
 },
 "nbformat": 4,
 "nbformat_minor": 5
}
