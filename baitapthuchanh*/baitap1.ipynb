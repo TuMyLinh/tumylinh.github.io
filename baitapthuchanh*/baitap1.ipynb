{
 "cells": [
  {
   "cell_type": "code",
   "execution_count": 1,
   "id": "ed2f14e6-a83b-41ec-8cdc-b878c9fffd28",
   "metadata": {},
   "outputs": [
    {
     "name": "stdout",
     "output_type": "stream",
     "text": [
      "Whoever is happy will make others happy too\n",
      "--Anne Frank\n"
     ]
    }
   ],
   "source": [
    "print(\"Whoever is happy will make others happy too\");\n",
    "print(\"--Anne Frank\");"
   ]
  },
  {
   "cell_type": "code",
   "execution_count": 1,
   "id": "e8a2f1e1-e3f9-4587-aec3-fa56a13ccee6",
   "metadata": {},
   "outputs": [
    {
     "name": "stdout",
     "output_type": "stream",
     "text": [
      "Cac ket qua tinh toan: \n",
      "5     + 6     =    11\n",
      "5     - 6     =    -1\n",
      "5     * 6     =    30\n",
      "5     // 6     =     0\n",
      "5     % 6     =     5\n",
      "5     / 6     =  0.83\n"
     ]
    }
   ],
   "source": [
    "# Nhập dữ liệu \n",
    "a = int(input(\"Moi ban nhap so a: \"))\n",
    "b = int(input(\"Moi ban nhap so b: \"))\n",
    "\n",
    "# Xử lý\n",
    "kqCong = a + b\n",
    "kqTru = a - b\n",
    "kqNhan = a * b\n",
    "kqChiaNguyen = a // b\n",
    "kqDu = a % b\n",
    "kqChiaThuc = a / b\n",
    "\n",
    "# Xuất dữ liệu\n",
    "print(\"Cac ket qua tinh toan: \")\n",
    "print(\"%-5d + %-5d = %5d\" % (a, b, kqCong))\n",
    "print(\"%-5d - %-5d = %5d\" % (a, b, kqTru))\n",
    "print(\"%-5d * %-5d = %5d\" % (a, b, kqNhan))\n",
    "print(\"%-5d // %-5d = %5d\" % (a, b, kqChiaNguyen))\n",
    "print(\"%-5d %% %-5d = %5d\" % (a, b, kqDu))\n",
    "print(\"%-5d / %-5d = %5.2f\" % (a, b, kqChiaThuc))\n",
    "\n",
    "\n"
   ]
  },
  {
   "cell_type": "code",
   "execution_count": 2,
   "id": "38540954",
   "metadata": {},
   "outputs": [
    {
     "name": "stdout",
     "output_type": "stream",
     "text": [
      "Ket qua so sanh hai so thuc 2.50 va 6.80:\n",
      "2.50     <  6.80    : True\n",
      "2.50     <= 6.80    : True\n",
      "2.50     >  6.80    : False\n",
      "2.50     >= 6.80    : False\n",
      "2.50     == 6.80    : False\n",
      "2.50     != 6.80    : True\n"
     ]
    }
   ],
   "source": [
    "# Nhập dữ liệu\n",
    "a = float(input(\"Moi ban nhap so a: \"))\n",
    "b = float(input(\"Moi ban nhap so b: \"))\n",
    "\n",
    "# Xử lý\n",
    "laNhoHon = (a < b)\n",
    "laNhoHonBang = (a <= b)\n",
    "laLonHon = (a > b)\n",
    "laLonHonBang = (a >= b)\n",
    "laBang = (a == b)\n",
    "laKhacNhau = (a != b)\n",
    "\n",
    "# Xuất dữ liệu\n",
    "print(\"Ket qua so sanh hai so thuc %.2f va %.2f:\" % (a, b))\n",
    "print(\"%-8.2f <  %-8.2f: %s\" % (a, b, laNhoHon))\n",
    "print(\"%-8.2f <= %-8.2f: %s\" % (a, b, laNhoHonBang))\n",
    "print(\"%-8.2f >  %-8.2f: %s\" % (a, b, laLonHon))\n",
    "print(\"%-8.2f >= %-8.2f: %s\" % (a, b, laLonHonBang))\n",
    "print(\"%-8.2f == %-8.2f: %s\" % (a, b, laBang))\n",
    "print(\"%-8.2f != %-8.2f: %s\" % (a, b, laKhacNhau))\n"
   ]
  },
  {
   "cell_type": "code",
   "execution_count": 3,
   "id": "0f3cc4f7",
   "metadata": {},
   "outputs": [
    {
     "name": "stdout",
     "output_type": "stream",
     "text": [
      "Gia tri cua ham so f(2.30) = 3.27.\n"
     ]
    }
   ],
   "source": [
    "# Nạp thư viện\n",
    "import math\n",
    "\n",
    "# Nhập dữ liệu\n",
    "x = float(input(\"Moi ban nhap vao gia tri cua bien so x: \"))\n",
    "\n",
    "# Xử lý\n",
    "fx = x + math.pow(x, 5) / (1 * 2 * 3 * 4 * 5) + \\\n",
    "     math.sqrt(abs(x)) / math.pow(x, 3.0 / 2)\n",
    "\n",
    "# Xuất dữ liệu\n",
    "print(\"Gia tri cua ham so f(%.2f) = %.2f.\" % (x, fx))\n"
   ]
  },
  {
   "cell_type": "code",
   "execution_count": 4,
   "id": "a0f10200",
   "metadata": {},
   "outputs": [
    {
     "name": "stdout",
     "output_type": "stream",
     "text": [
      "Gia tri cua ham so f(1234.00) = 23844847676662.54.\n"
     ]
    }
   ],
   "source": [
    "# Nạp thư viện\n",
    "import math\n",
    "\n",
    "# Nhập dữ liệu\n",
    "x = float(input(\"Moi ban nhap vao gia tri cua bien so x: \"))\n",
    "\n",
    "# Xử lý\n",
    "fx = x + math.pow(x, 5) / (1 * 2 * 3 * 4 * 5) + \\\n",
    "     math.sqrt(abs(x)) / math.pow(x, 3.0 / 2)\n",
    "\n",
    "# Xuất dữ liệu\n",
    "print(\"Gia tri cua ham so f(%.2f) = %.2f.\" % (x, fx))\n"
   ]
  },
  {
   "cell_type": "markdown",
   "id": "54df88f6",
   "metadata": {},
   "source": [
    "Bài tập thực hành tự làm"
   ]
  },
  {
   "cell_type": "code",
   "execution_count": 5,
   "id": "ef89518f",
   "metadata": {},
   "outputs": [
    {
     "name": "stdout",
     "output_type": "stream",
     "text": [
      "******************************\n",
      "* Truong: Dai Hoc UEH        *\n",
      "* Khoa: CNTT                 *\n",
      "* Ho ten:                    *\n",
      "******************************\n"
     ]
    }
   ],
   "source": [
    "def InNhan():\n",
    "    print(\"******************************\")\n",
    "    print(\"* Truong: Dai Hoc UEH        *\")\n",
    "    print(\"* Khoa: CNTT                 *\")\n",
    "    print(\"* Ho ten:                    *\")\n",
    "    print(\"******************************\")\n",
    "\n",
    "# Gọi hàm để chạy\n",
    "InNhan()\n"
   ]
  },
  {
   "cell_type": "code",
   "execution_count": 6,
   "id": "d32c61f4",
   "metadata": {},
   "outputs": [
    {
     "name": "stdout",
     "output_type": "stream",
     "text": [
      "Dien tich S = 78.5\n",
      "Chu vi P = 31.4\n"
     ]
    }
   ],
   "source": [
    "def HinhTron():\n",
    "    R = float(input(\"Nhap ban kinh R: \"))\n",
    "    S = 3.14 * R * R\n",
    "    P = 2 * 3.14 * R\n",
    "    print(\"Dien tich S = {:.1f}\".format(S))\n",
    "    print(\"Chu vi P = {:.1f}\".format(P))\n",
    "\n",
    "# Gọi hàm để chạy\n",
    "HinhTron()\n"
   ]
  },
  {
   "cell_type": "code",
   "execution_count": 7,
   "id": "bed331ff",
   "metadata": {},
   "outputs": [
    {
     "name": "stdout",
     "output_type": "stream",
     "text": [
      "Tong so giay cua 1:20:10 la 4810 giay\n"
     ]
    }
   ],
   "source": [
    "def DoiSangGiay():\n",
    "    h = int(input(\"Nhap so gio: \"))\n",
    "    m = int(input(\"Nhap so phut: \"))\n",
    "    s = int(input(\"Nhap so giay: \"))\n",
    "\n",
    "    tong_giay = h * 3600 + m * 60 + s\n",
    "\n",
    "    print(f\"Tong so giay cua {h}:{m}:{s} la {tong_giay} giay\")\n",
    "\n",
    "# Gọi hàm để chạy\n",
    "DoiSangGiay()\n"
   ]
  },
  {
   "cell_type": "code",
   "execution_count": 8,
   "id": "1fe4f7b5",
   "metadata": {},
   "outputs": [
    {
     "name": "stdout",
     "output_type": "stream",
     "text": [
      "4810 giay co dang 1:20:10\n"
     ]
    }
   ],
   "source": [
    "def DoiSangGioPhutGiay():\n",
    "    t = int(input(\"Nhap vao tong so giay: \"))\n",
    "    \n",
    "    h = t // 3600\n",
    "    m = (t % 3600) // 60\n",
    "    s = t % 60\n",
    "    \n",
    "    print(f\"{t} giay co dang {h}:{m}:{s}\")\n",
    "\n",
    "# Gọi hàm để chạy\n",
    "DoiSangGioPhutGiay()\n"
   ]
  },
  {
   "cell_type": "code",
   "execution_count": 9,
   "id": "e998ccd3",
   "metadata": {},
   "outputs": [
    {
     "name": "stdout",
     "output_type": "stream",
     "text": [
      "Dien tich tam giac S = 2.90\n"
     ]
    }
   ],
   "source": [
    "import math\n",
    "\n",
    "def DienTichTamGiac():\n",
    "    a = float(input(\"Nhap do dai canh a: \"))\n",
    "    b = float(input(\"Nhap do dai canh b: \"))\n",
    "    c = float(input(\"Nhap do dai canh c: \"))\n",
    "\n",
    "    p = (a + b + c) / 2\n",
    "    S = math.sqrt(p * (p - a) * (p - b) * (p - c))\n",
    "\n",
    "    print(\"Dien tich tam giac S = {:.2f}\".format(S))\n",
    "\n",
    "# Gọi hàm để chạy\n",
    "DienTichTamGiac()\n"
   ]
  },
  {
   "cell_type": "code",
   "execution_count": 10,
   "id": "5a7bc42e",
   "metadata": {},
   "outputs": [
    {
     "name": "stdout",
     "output_type": "stream",
     "text": [
      "Ket qua 2.0^4 = 16.0\n"
     ]
    }
   ],
   "source": [
    "def TinhMu():\n",
    "    a = float(input(\"Nhap so thuc a: \"))\n",
    "    n = int(input(\"Nhap so mu n: \"))\n",
    "    \n",
    "    ket_qua = a ** n\n",
    "    \n",
    "    print(f\"Ket qua {a}^{n} = {ket_qua}\")\n",
    "\n",
    "# Gọi hàm để chạy\n",
    "TinhMu()\n"
   ]
  },
  {
   "cell_type": "code",
   "execution_count": 11,
   "id": "a6b4f6fb",
   "metadata": {},
   "outputs": [
    {
     "name": "stdout",
     "output_type": "stream",
     "text": [
      "So dao cua 1234 la 4321\n"
     ]
    }
   ],
   "source": [
    "def DaoSo():\n",
    "    x = int(input(\"Nhap so nguyen co 4 chu so: \"))\n",
    "    \n",
    "    # Đổi số sang chuỗi, đảo ngược rồi đổi lại thành số nguyên\n",
    "    y = int(str(x)[::-1])\n",
    "    \n",
    "    print(f\"So dao cua {x} la {y}\")\n",
    "\n",
    "# Gọi hàm để chạy\n",
    "DaoSo()\n"
   ]
  },
  {
   "cell_type": "code",
   "execution_count": 12,
   "id": "d30ed921",
   "metadata": {},
   "outputs": [
    {
     "name": "stdout",
     "output_type": "stream",
     "text": [
      "180.0 do = 3.1416 radian\n"
     ]
    }
   ],
   "source": [
    "import math\n",
    "\n",
    "def DoSangRadian():\n",
    "    do_goc = float(input(\"Nhap goc (do): \"))\n",
    "    radian = do_goc * math.pi / 180\n",
    "    print(f\"{do_goc} do = {radian:.4f} radian\")\n",
    "\n",
    "# Gọi hàm để chạy\n",
    "DoSangRadian()\n"
   ]
  },
  {
   "cell_type": "code",
   "execution_count": 13,
   "id": "5a1f1faf",
   "metadata": {},
   "outputs": [
    {
     "name": "stdout",
     "output_type": "stream",
     "text": [
      "y1 = 157.14\n",
      "y2 = 0.04\n"
     ]
    }
   ],
   "source": [
    "import math\n",
    "\n",
    "def HamSo1():\n",
    "    x = float(input(\"Nhap gia tri x: \"))\n",
    "\n",
    "    # Tính y1\n",
    "    y1 = 4 * (x**2 + 10*x*math.sqrt(x) + 3*x + 1)\n",
    "\n",
    "    # Tính y2\n",
    "    y2 = (math.sin(math.pi * x**2) + math.sqrt(x**2 + 1)) / (math.exp(2*x) + math.cos((math.pi/4) * x))\n",
    "\n",
    "    print(\"y1 = {:.2f}\".format(y1))\n",
    "    print(\"y2 = {:.2f}\".format(y2))\n",
    "\n",
    "# Gọi hàm để chạy\n",
    "HamSo1()\n"
   ]
  },
  {
   "cell_type": "code",
   "execution_count": 14,
   "id": "fc1bba03",
   "metadata": {},
   "outputs": [
    {
     "name": "stdout",
     "output_type": "stream",
     "text": [
      "Khoang cach giua A(1.00, 2.00) va B(4.00, 6.00) la: 5.00\n"
     ]
    }
   ],
   "source": [
    "import math\n",
    "\n",
    "def KhoangCach():\n",
    "    x1 = float(input(\"Nhap x1: \"))\n",
    "    y1 = float(input(\"Nhap y1: \"))\n",
    "    x2 = float(input(\"Nhap x2: \"))\n",
    "    y2 = float(input(\"Nhap y2: \"))\n",
    "\n",
    "    d = math.sqrt((x2 - x1)**2 + (y2 - y1)**2)\n",
    "\n",
    "    print(\"Khoang cach giua A({:.2f}, {:.2f}) va B({:.2f}, {:.2f}) la: {:.2f}\".format(x1, y1, x2, y2, d))\n",
    "\n",
    "# Gọi hàm để chạy\n",
    "KhoangCach()\n"
   ]
  }
 ],
 "metadata": {
  "kernelspec": {
   "display_name": "Python 3",
   "language": "python",
   "name": "python3"
  },
  "language_info": {
   "codemirror_mode": {
    "name": "ipython",
    "version": 3
   },
   "file_extension": ".py",
   "mimetype": "text/x-python",
   "name": "python",
   "nbconvert_exporter": "python",
   "pygments_lexer": "ipython3",
   "version": "3.12.1"
  }
 },
 "nbformat": 4,
 "nbformat_minor": 5
}
