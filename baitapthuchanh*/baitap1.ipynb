{
 "cells": [
  {
   "cell_type": "code",
   "execution_count": 1,
   "id": "ed2f14e6-a83b-41ec-8cdc-b878c9fffd28",
   "metadata": {},
   "outputs": [
    {
     "name": "stdout",
     "output_type": "stream",
     "text": [
      "Whoever is happy will make others happy too\n",
      "--Anne Frank\n"
     ]
    }
   ],
   "source": [
    "print(\"Whoever is happy will make others happy too\");\n",
    "print(\"--Anne Frank\");"
   ]
  },
  {
   "cell_type": "code",
   "execution_count": 1,
   "id": "e8a2f1e1-e3f9-4587-aec3-fa56a13ccee6",
   "metadata": {},
   "outputs": [
    {
     "name": "stdout",
     "output_type": "stream",
     "text": [
      "Cac ket qua tinh toan: \n",
      "5     + 6     =    11\n",
      "5     - 6     =    -1\n",
      "5     * 6     =    30\n",
      "5     // 6     =     0\n",
      "5     % 6     =     5\n",
      "5     / 6     =  0.83\n"
     ]
    }
   ],
   "source": [
    "# Nhập dữ liệu \n",
    "a = int(input(\"Moi ban nhap so a: \"))\n",
    "b = int(input(\"Moi ban nhap so b: \"))\n",
    "\n",
    "# Xử lý\n",
    "kqCong = a + b\n",
    "kqTru = a - b\n",
    "kqNhan = a * b\n",
    "kqChiaNguyen = a // b\n",
    "kqDu = a % b\n",
    "kqChiaThuc = a / b\n",
    "\n",
    "# Xuất dữ liệu\n",
    "print(\"Cac ket qua tinh toan: \")\n",
    "print(\"%-5d + %-5d = %5d\" % (a, b, kqCong))\n",
    "print(\"%-5d - %-5d = %5d\" % (a, b, kqTru))\n",
    "print(\"%-5d * %-5d = %5d\" % (a, b, kqNhan))\n",
    "print(\"%-5d // %-5d = %5d\" % (a, b, kqChiaNguyen))\n",
    "print(\"%-5d %% %-5d = %5d\" % (a, b, kqDu))\n",
    "print(\"%-5d / %-5d = %5.2f\" % (a, b, kqChiaThuc))\n",
    "\n",
    "\n"
   ]
  },
  {
   "cell_type": "code",
   "execution_count": 2,
   "id": "38540954",
   "metadata": {},
   "outputs": [
    {
     "name": "stdout",
     "output_type": "stream",
     "text": [
      "Ket qua so sanh hai so thuc 2.50 va 6.80:\n",
      "2.50     <  6.80    : True\n",
      "2.50     <= 6.80    : True\n",
      "2.50     >  6.80    : False\n",
      "2.50     >= 6.80    : False\n",
      "2.50     == 6.80    : False\n",
      "2.50     != 6.80    : True\n"
     ]
    }
   ],
   "source": [
    "# Nhập dữ liệu\n",
    "a = float(input(\"Moi ban nhap so a: \"))\n",
    "b = float(input(\"Moi ban nhap so b: \"))\n",
    "\n",
    "# Xử lý\n",
    "laNhoHon = (a < b)\n",
    "laNhoHonBang = (a <= b)\n",
    "laLonHon = (a > b)\n",
    "laLonHonBang = (a >= b)\n",
    "laBang = (a == b)\n",
    "laKhacNhau = (a != b)\n",
    "\n",
    "# Xuất dữ liệu\n",
    "print(\"Ket qua so sanh hai so thuc %.2f va %.2f:\" % (a, b))\n",
    "print(\"%-8.2f <  %-8.2f: %s\" % (a, b, laNhoHon))\n",
    "print(\"%-8.2f <= %-8.2f: %s\" % (a, b, laNhoHonBang))\n",
    "print(\"%-8.2f >  %-8.2f: %s\" % (a, b, laLonHon))\n",
    "print(\"%-8.2f >= %-8.2f: %s\" % (a, b, laLonHonBang))\n",
    "print(\"%-8.2f == %-8.2f: %s\" % (a, b, laBang))\n",
    "print(\"%-8.2f != %-8.2f: %s\" % (a, b, laKhacNhau))\n"
   ]
  },
  {
   "cell_type": "code",
   "execution_count": 3,
   "id": "0f3cc4f7",
   "metadata": {},
   "outputs": [
    {
     "name": "stdout",
     "output_type": "stream",
     "text": [
      "Gia tri cua ham so f(2.30) = 3.27.\n"
     ]
    }
   ],
   "source": [
    "# Nạp thư viện\n",
    "import math\n",
    "\n",
    "# Nhập dữ liệu\n",
    "x = float(input(\"Moi ban nhap vao gia tri cua bien so x: \"))\n",
    "\n",
    "# Xử lý\n",
    "fx = x + math.pow(x, 5) / (1 * 2 * 3 * 4 * 5) + \\\n",
    "     math.sqrt(abs(x)) / math.pow(x, 3.0 / 2)\n",
    "\n",
    "# Xuất dữ liệu\n",
    "print(\"Gia tri cua ham so f(%.2f) = %.2f.\" % (x, fx))\n"
   ]
  },
  {
   "cell_type": "code",
   "execution_count": 4,
   "id": "a0f10200",
   "metadata": {},
   "outputs": [
    {
     "name": "stdout",
     "output_type": "stream",
     "text": [
      "Gia tri cua ham so f(1234.00) = 23844847676662.54.\n"
     ]
    }
   ],
   "source": [
    "# Nạp thư viện\n",
    "import math\n",
    "\n",
    "# Nhập dữ liệu\n",
    "x = float(input(\"Moi ban nhap vao gia tri cua bien so x: \"))\n",
    "\n",
    "# Xử lý\n",
    "fx = x + math.pow(x, 5) / (1 * 2 * 3 * 4 * 5) + \\\n",
    "     math.sqrt(abs(x)) / math.pow(x, 3.0 / 2)\n",
    "\n",
    "# Xuất dữ liệu\n",
    "print(\"Gia tri cua ham so f(%.2f) = %.2f.\" % (x, fx))\n"
   ]
  }
 ],
 "metadata": {
  "kernelspec": {
   "display_name": "Python 3",
   "language": "python",
   "name": "python3"
  },
  "language_info": {
   "codemirror_mode": {
    "name": "ipython",
    "version": 3
   },
   "file_extension": ".py",
   "mimetype": "text/x-python",
   "name": "python",
   "nbconvert_exporter": "python",
   "pygments_lexer": "ipython3",
   "version": "3.12.1"
  }
 },
 "nbformat": 4,
 "nbformat_minor": 5
}
