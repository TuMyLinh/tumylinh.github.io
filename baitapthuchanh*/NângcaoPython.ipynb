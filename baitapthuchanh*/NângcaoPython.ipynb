{
 "cells": [
  {
   "cell_type": "markdown",
   "id": "68839c5f",
   "metadata": {},
   "source": [
    "# CÁC VẤN ĐỀ NÂNG CAO TRONG PYTHON\n",
    "## Xử lý tập tin và thư mục\n",
    "### Thao tác cơ bản trên thư mục"
   ]
  },
  {
   "cell_type": "code",
   "execution_count": 1,
   "id": "7e7872e2",
   "metadata": {},
   "outputs": [],
   "source": [
    "import os\n",
    "import tempfile"
   ]
  },
  {
   "cell_type": "code",
   "execution_count": 2,
   "id": "5bc63bcd",
   "metadata": {},
   "outputs": [
    {
     "name": "stdout",
     "output_type": "stream",
     "text": [
      "/workspaces/tumylinh.github.io/baitapthuchanh*\n"
     ]
    }
   ],
   "source": [
    "# Lấy thư mục hiện tại đang làm việc\n",
    "cwd = os.getcwd()\n",
    "print(cwd)\n",
    "\n",
    "# Thay đổi thư mục hiện tại đang làm việc\n",
    "os.chdir(cwd)"
   ]
  },
  {
   "cell_type": "code",
   "execution_count": 2,
   "id": "44a91afc",
   "metadata": {},
   "outputs": [
    {
     "name": "stdout",
     "output_type": "stream",
     "text": [
      "/tmp\n",
      "/tmp/foobar\n"
     ]
    }
   ],
   "source": [
    "import os\n",
    "import tempfile\n",
    "\n",
    "# Lấy thư mục tạm của hệ thống\n",
    "tmpdir = tempfile.gettempdir()\n",
    "print(tmpdir)\n",
    "\n",
    "# Nối các đường dẫn thư mục\n",
    "mytmpdir = os.path.join(tmpdir, \"foobar\")\n",
    "print(mytmpdir)\n"
   ]
  },
  {
   "cell_type": "markdown",
   "id": "d7696241",
   "metadata": {},
   "source": [
    "### Nhập/xuất tập tin"
   ]
  }
 ],
 "metadata": {
  "kernelspec": {
   "display_name": "Python 3",
   "language": "python",
   "name": "python3"
  },
  "language_info": {
   "codemirror_mode": {
    "name": "ipython",
    "version": 3
   },
   "file_extension": ".py",
   "mimetype": "text/x-python",
   "name": "python",
   "nbconvert_exporter": "python",
   "pygments_lexer": "ipython3",
   "version": "3.12.1"
  }
 },
 "nbformat": 4,
 "nbformat_minor": 5
}
