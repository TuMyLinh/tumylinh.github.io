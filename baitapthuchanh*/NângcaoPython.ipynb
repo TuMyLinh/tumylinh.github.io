{
 "cells": [
  {
   "cell_type": "markdown",
   "id": "5d8b405d-5d45-4ed7-8d3e-5547c4c8e94f",
   "metadata": {},
   "source": []
  }
 ],
 "metadata": {
  "kernelspec": {
   "display_name": "Python 3 (ipykernel)",
   "language": "python",
   "name": "python3"
  },
  "language_info": {
   "codemirror_mode": {
    "name": "ipython",
    "version": 3
   },
   "file_extension": ".py",
   "mimetype": "text/x-python",
   "name": "python",
   "nbconvert_exporter": "python",
   "pygments_lexer": "ipython3",
   "version": "3.12.1"
  }
 },
 "nbformat": 4,
 "nbformat_minor": 5
}
