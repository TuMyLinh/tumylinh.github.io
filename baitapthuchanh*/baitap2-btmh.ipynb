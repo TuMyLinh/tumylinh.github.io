{
 "cells": [
  {
   "cell_type": "markdown",
   "id": "4c47b253-4ac5-4f75-b36f-793702a539df",
   "metadata": {},
   "source": [
    "# 1 Viết chương trình nhập số A và kiểm tra xem A có phải là số nguyên tố hay không?"
   ]
  },
  {
   "cell_type": "code",
   "execution_count": 4,
   "id": "7347a683-e435-45b6-b44c-02d28d02b769",
   "metadata": {},
   "outputs": [
    {
     "name": "stdout",
     "output_type": "stream",
     "text": [
      "Nhap vao so nguyen: 2\n"
     ]
    },
    {
     "name": "stdout",
     "output_type": "stream",
     "text": [
      "2 la so nguyen to\n"
     ]
    }
   ],
   "source": [
    "## ham kiem tra so nguyen to\n",
    "def ktsnt(n):\n",
    "    if n < 2: #0, 1 khong la so nguyen to \n",
    "        return False\n",
    "    for i in range(2, int(n**(0.5)) + 1): # can bac hai cua n\n",
    "        if (n%i == 0):\n",
    "            return False\n",
    "    return True\n",
    "### nhap vao so nguyen can kiem tra \n",
    "a = int(input(\"Nhap vao so nguyen:\"))\n",
    "if ktsnt (a):\n",
    "    print(\"%d la so nguyen to\"% a)\n",
    "else:\n",
    "    print(\"%d khong la so nguyen to\" % a)"
   ]
  },
  {
   "cell_type": "markdown",
   "id": "16bf1366-4307-48bf-808c-9fbf416aba5b",
   "metadata": {},
   "source": [
    "a) Nhập vào N, liệt kê tất cả các số nguyên tố nhỏ hơn N "
   ]
  },
  {
   "cell_type": "code",
   "execution_count": 5,
   "id": "968ecc08-cf5d-4fa5-87ed-4cc33f9ae0bd",
   "metadata": {},
   "outputs": [
    {
     "name": "stdout",
     "output_type": "stream",
     "text": [
      "2 \n",
      "3 \n",
      "5 \n",
      "7 \n",
      "11 \n",
      "13 \n",
      "17 \n",
      "19 \n",
      "23 \n",
      "29 \n",
      "31 \n",
      "37 \n",
      "41 \n",
      "43 \n",
      "47 \n",
      "53 \n",
      "59 \n",
      "61 \n",
      "67 \n",
      "71 \n",
      "73 \n",
      "79 \n",
      "83 \n",
      "89 \n",
      "97 \n",
      "101 \n",
      "103 \n",
      "107 \n",
      "109 \n",
      "113 \n",
      "127 \n",
      "131 \n",
      "137 \n",
      "139 \n",
      "149 \n",
      "151 \n",
      "157 \n",
      "163 \n",
      "167 \n",
      "173 \n",
      "179 \n",
      "181 \n",
      "191 \n",
      "193 \n",
      "197 \n",
      "199 \n"
     ]
    }
   ],
   "source": [
    "### ham liet ke cac so nguyen to nho hon n \n",
    "def lietkesnt(k):\n",
    "    if k <= 2:\n",
    "        print(\"khong co so nguyen to thoa yeu cau\")\n",
    "    else:\n",
    "        for i in range(2, k):\n",
    "            if ktsnt(i):\n",
    "                print(\"%d \"%i)\n",
    "n = 200\n",
    "lietkesnt(n)"
   ]
  },
  {
   "cell_type": "markdown",
   "id": "30583740-f9e4-4ed6-884a-b43af7bbfbec",
   "metadata": {},
   "source": [
    "b) In ra M số nguyên tố đầu tiên"
   ]
  },
  {
   "cell_type": "code",
   "execution_count": 6,
   "id": "0690db6b-15ff-42be-87c5-9a1b1af74fae",
   "metadata": {},
   "outputs": [
    {
     "name": "stdout",
     "output_type": "stream",
     "text": [
      "2 \n",
      "3 \n",
      "5 \n",
      "7 \n",
      "11 \n",
      "13 \n",
      "17 \n",
      "19 \n",
      "23 \n",
      "29 \n"
     ]
    }
   ],
   "source": [
    "### ham liet ke M\n",
    "def lietkeMsnt(M):\n",
    "    bien_dem = 0 # dem : tu 0 den M-1\n",
    "    t = 2 # 0 va 1 khong la so nguyen to\n",
    "    while(bien_dem < M):\n",
    "        if ktsnt(t):\n",
    "            print(\"%d \" %t)\n",
    "            bien_dem +=1\n",
    "        t+=1\n",
    "M=10\n",
    "lietkeMsnt(M)"
   ]
  },
  {
   "cell_type": "markdown",
   "id": "02fd5045",
   "metadata": {},
   "source": [
    "2. Viết chương trình in ra tất cả số chẵn trong khoảng (M,N). N, M nhập từ bàn phím"
   ]
  },
  {
   "cell_type": "code",
   "execution_count": 3,
   "id": "0a65c4b3",
   "metadata": {},
   "outputs": [
    {
     "name": "stdout",
     "output_type": "stream",
     "text": [
      "4\n",
      "6\n"
     ]
    }
   ],
   "source": [
    "def insochan(M, N):\n",
    "    for i in range (M+1,N):\n",
    "        if i % 2 == 0:\n",
    "            print(\"%d\" %i)\n",
    "M = int(input(\"Nhap chan duoi:\"))\n",
    "N = int(input(\"Nhap chan tren\"))\n",
    "insochan(M,N)"
   ]
  },
  {
   "cell_type": "markdown",
   "id": "2bdf785f",
   "metadata": {},
   "source": [
    "a. Tìm tất cả các số chia hết cho 7 nhưng không phải bội số của 5, nằm trong đoạn [99;999] (tính cả 99 và 999)"
   ]
  },
  {
   "cell_type": "code",
   "execution_count": 5,
   "id": "24e6c2bc",
   "metadata": {},
   "outputs": [
    {
     "name": "stdout",
     "output_type": "stream",
     "text": [
      "112, 119, 126, 133, 147, 154, 161, 168, 182, 189, 196, 203, 217, 224, 231, 238, 252, 259, 266, 273, 287, 294, 301, 308, 322, 329, 336, 343, 357, 364, 371, 378, 392, 399, 406, 413, 427, 434, 441, 448, 462, 469, 476, 483, 497, 504, 511, 518, 532, 539, 546, 553, 567, 574, 581, 588, 602, 609, 616, 623, 637, 644, 651, 658, 672, 679, 686, 693, 707, 714, 721, 728, 742, 749, 756, 763, 777, 784, 791, 798, 812, 819, 826, 833, 847, 854, 861, 868, 882, 889, 896, 903, 917, 924, 931, 938, 952, 959, 966, 973, 987, 994\n"
     ]
    }
   ],
   "source": [
    "def lietke1(M, N):\n",
    "    \"\"\"\n",
    "    Liệt kê các số chia hết cho 7 nhưng không chia hết cho 5\n",
    "    trong khoảng từ M đến N, và in chúng trên cùng một dòng.\n",
    "    \"\"\"\n",
    "    result = []\n",
    "    for i in range(M, N + 1):\n",
    "        if (i % 7 == 0) and (i % 5 != 0):\n",
    "            result.append(str(i))\n",
    "    \n",
    "    # In tất cả các số đã tìm thấy trên cùng một dòng, cách nhau bởi dấu phẩy\n",
    "    print(\", \".join(result))\n",
    "\n",
    "# Giá trị M và N\n",
    "M = 99\n",
    "N = 999\n",
    "\n",
    "# Gọi hàm\n",
    "lietke1(M, N)"
   ]
  },
  {
   "cell_type": "markdown",
   "id": "92b179f2",
   "metadata": {},
   "source": [
    "b. Tìm số đầu tiên chia hết cho 9 và chia hết cho 7 nằm trong đoạn [M,N]"
   ]
  },
  {
   "cell_type": "code",
   "execution_count": 6,
   "id": "5dca09d8",
   "metadata": {},
   "outputs": [
    {
     "name": "stdout",
     "output_type": "stream",
     "text": [
      "126 \n"
     ]
    }
   ],
   "source": [
    "def lietke2(M,N):\n",
    "    q = -1\n",
    "\n",
    "    for i in range(M,N+1):\n",
    "        if (i%9==0) and (i%7==0):\n",
    "            q = i\n",
    "            break\n",
    "    return q\n",
    "M = 64\n",
    "N = 300\n",
    "q = lietke2(M,N)\n",
    "if (q == -1):\n",
    "    print(\"khong co so thoa dieu kien\")\n",
    "else:\n",
    "    print(\"%d \" %q)"
   ]
  },
  {
   "cell_type": "markdown",
   "id": "85c59e2c",
   "metadata": {},
   "source": [
    "TH3: Nhập một số nguyên, đếm xem số đó có bao nhiêu chữ số và tính tổng các chữ số. "
   ]
  },
  {
   "cell_type": "code",
   "execution_count": 2,
   "id": "0af29503",
   "metadata": {},
   "outputs": [
    {
     "name": "stdout",
     "output_type": "stream",
     "text": [
      "1\n",
      "so luong chu so: 1\n",
      "tong cac chu so:1\n"
     ]
    }
   ],
   "source": [
    "def Tinh(n):\n",
    "    tong = 0\n",
    "    dem = 0\n",
    "    while (n>0):\n",
    "        sodu = n%10\n",
    "        tong = tong+sodu\n",
    "        dem = dem+1\n",
    "        n = n//10\n",
    "        print(sodu)\n",
    "    return tong,dem\n",
    "a = int(input(\"Nhap n:\"))\n",
    "tong, sochuso = Tinh(a)\n",
    "print(\"so luong chu so: %d\" % sochuso)\n",
    "print(\"tong cac chu so:%d\" %tong)"
   ]
  },
  {
   "cell_type": "markdown",
   "id": "64319880",
   "metadata": {},
   "source": [
    "TH4: Đệ quy - tính giai thừa của một số nguyên dương n"
   ]
  },
  {
   "cell_type": "code",
   "execution_count": 3,
   "id": "f029a875",
   "metadata": {},
   "outputs": [
    {
     "name": "stdout",
     "output_type": "stream",
     "text": [
      "Giai thừa của 5 là 120\n"
     ]
    }
   ],
   "source": [
    "def giaithua(n):\n",
    "    if n == 1:\n",
    "        return 1\n",
    "    else:\n",
    "        return (n*giaithua(n-1))\n",
    "num = 5\n",
    "print(\"Giai thừa của\", num, \"là\", giaithua(num))"
   ]
  },
  {
   "cell_type": "markdown",
   "id": "bd6707e5",
   "metadata": {},
   "source": [
    "TH5: Đệ quy - Tính lũy thừa a^b"
   ]
  },
  {
   "cell_type": "code",
   "execution_count": 3,
   "id": "292eacc6",
   "metadata": {},
   "outputs": [],
   "source": [
    "def power(a,b):\n",
    "    if b==0:\n",
    "        return 1\n",
    "    elif a==0:\n",
    "        return 0\n",
    "    elif b==1:\n",
    "        return a\n",
    "    else:\n",
    "        return a*power(a,b-1)\n",
    "    a = 2\n",
    "    b = 3\n",
    "    print(a, \"^\",b,\"=\", power(a,b))\n"
   ]
  },
  {
   "cell_type": "markdown",
   "id": "4785cc18",
   "metadata": {},
   "source": [
    "Thực Hành 2"
   ]
  },
  {
   "cell_type": "markdown",
   "id": "d84d038f",
   "metadata": {},
   "source": [
    "1. Viết hàm tìm độ dài của một chuỗi (không dùng hàm len())"
   ]
  },
  {
   "cell_type": "code",
   "execution_count": 4,
   "id": "db10f5d2",
   "metadata": {},
   "outputs": [
    {
     "name": "stdout",
     "output_type": "stream",
     "text": [
      "chieu dai chuoi : 20\n",
      "check len() function: 20\n"
     ]
    }
   ],
   "source": [
    "def chieudaichuoi(str1):\n",
    "    count = 0\n",
    "    for char in str1:\n",
    "        count +=1\n",
    "    return count\n",
    "ss = 'hello world ... !!!!'\n",
    "print('chieu dai chuoi : {}'.format(chieudaichuoi(ss)))\n",
    "print('check len() function:', len(ss))"
   ]
  },
  {
   "cell_type": "markdown",
   "id": "249f9771",
   "metadata": {},
   "source": [
    "2. Viết chương trình đếm số lượng các từ trong một chuỗi (giả sử các từ trong chuỗi cách nhau bởi một khoảng trắng)"
   ]
  },
  {
   "cell_type": "code",
   "execution_count": 5,
   "id": "b955496f",
   "metadata": {},
   "outputs": [
    {
     "name": "stdout",
     "output_type": "stream",
     "text": [
      "input:  Tach chuoi dung split\n",
      "tach tu: ['Tach', 'chuoi', 'dung', 'split']\n",
      "The number of words in string are :  4\n"
     ]
    }
   ],
   "source": [
    "### TH 1: Dung split\n",
    "test_string = \"Tach chuoi dung split\"\n",
    "print (\"input: \",test_string)\n",
    "temp = test_string.split()\n",
    "print(\"tach tu:\", temp)\n",
    "res = len(temp)\n",
    "print(\"The number of words in string are : \",str(res))"
   ]
  },
  {
   "cell_type": "markdown",
   "id": "34a8634c",
   "metadata": {},
   "source": [
    "TH2: khong dung slipt"
   ]
  },
  {
   "cell_type": "code",
   "execution_count": 6,
   "id": "3f24816d",
   "metadata": {},
   "outputs": [
    {
     "name": "stdout",
     "output_type": "stream",
     "text": [
      "The number of words in string are 0\n"
     ]
    }
   ],
   "source": [
    "# TH2\n",
    "test_string = \"tach chuoi thanh tu\"\n",
    "if len(test_string) == 0 or (test_string.isspace()):\n",
    "    print(\"The number of words in string are = \", 0)\n",
    "else:\n",
    "    total = 0\n",
    "    test_string = test_string+ ''\n",
    "    for i in range(len(test_string)-1):\n",
    "        if(test_string[i] != '' and test_string[i+1] == ''):\n",
    "            total = total + 1\n",
    "    print(\"The number of words in string are\", total)"
   ]
  },
  {
   "cell_type": "markdown",
   "id": "627bdb0c",
   "metadata": {},
   "source": [
    "3. Viết hàm đếm số lượng nguyên âm(a e i o u), phụ âm có trong chuỗi"
   ]
  },
  {
   "cell_type": "code",
   "execution_count": 8,
   "id": "f9c1984f",
   "metadata": {},
   "outputs": [
    {
     "name": "stdout",
     "output_type": "stream",
     "text": [
      "12\n",
      "2 8\n"
     ]
    }
   ],
   "source": [
    "test_string = \" ! ! fdafdaf\"\n",
    "valid_symbols = \"!@#$%^&*()_-+={}[]<>`/>,\" \n",
    "def dem_nguyenam_phuam(string):\n",
    "    nguyenam = 0\n",
    "    phuam = 0\n",
    "    for char in string:\n",
    "        if char !='' and char not in valid_symbols:\n",
    "            if char in \"aeiouAEIOU\":\n",
    "                nguyenam = nguyenam+1\n",
    "            else:\n",
    "                phuam = phuam+1\n",
    "    return nguyenam, phuam\n",
    "\n",
    "print(len(test_string))\n",
    "v,c = dem_nguyenam_phuam(test_string)\n",
    "print(v,c)"
   ]
  },
  {
   "cell_type": "code",
   "execution_count": 9,
   "id": "bc3cd818",
   "metadata": {},
   "outputs": [],
   "source": [
    "def dem_nguyenam_phuam(string):\n",
    "    nguyenam = 0\n",
    "    phuam = 0\n",
    "    vowels = \"aeiouAEIOU\"\n",
    "\n",
    "    for i in string:\n",
    "        if i.isalpha():  # chỉ xét chữ cái\n",
    "            if i in vowels:\n",
    "                nguyenam += 1\n",
    "            else:\n",
    "                phuam += 1\n",
    "\n",
    "    return nguyenam, phuam\n"
   ]
  },
  {
   "cell_type": "code",
   "execution_count": 10,
   "id": "870678bd",
   "metadata": {},
   "outputs": [
    {
     "name": "stdout",
     "output_type": "stream",
     "text": [
      "Nguyên âm: 6\n",
      "Phụ âm: 8\n"
     ]
    }
   ],
   "source": [
    "s = \"Xin Chao Viet Nam 2025!\"\n",
    "na, pa = dem_nguyenam_phuam(s)\n",
    "print(\"Nguyên âm:\", na)\n",
    "print(\"Phụ âm:\", pa)\n"
   ]
  },
  {
   "cell_type": "markdown",
   "id": "bffb8809",
   "metadata": {},
   "source": [
    "Thực hành 3"
   ]
  },
  {
   "cell_type": "markdown",
   "id": "49abf33d",
   "metadata": {},
   "source": [
    "1. Sắp xếp List dùng string_compare và integer_compare"
   ]
  },
  {
   "cell_type": "code",
   "execution_count": 11,
   "id": "465577b7",
   "metadata": {},
   "outputs": [
    {
     "name": "stdout",
     "output_type": "stream",
     "text": [
      "Input: ['3', '27', '5', '123', '9', '1']\n",
      "StringSort: ['1', '123', '27', '3', '5', '9']\n",
      "INTSort: ['1', '3', '5', '9', '27', '123']\n"
     ]
    }
   ],
   "source": [
    "A = ['3', '27', '5', '123', '9', '1']\n",
    "print(\"Input:\", A)\n",
    "\n",
    "# Sắp xếp theo dạng chuỗi (string)\n",
    "StringSort = sorted(A)\n",
    "print(\"StringSort:\", StringSort)\n",
    "\n",
    "# Hàm chuyển đổi chuỗi thành số nguyên\n",
    "def myintSort(a):\n",
    "    return int(a)\n",
    "\n",
    "# Sắp xếp theo giá trị số nguyên (int)\n",
    "INTSort = sorted(A, key=myintSort)\n",
    "print(\"INTSort:\", INTSort)\n"
   ]
  },
  {
   "cell_type": "markdown",
   "id": "56ea8225",
   "metadata": {},
   "source": [
    "2. Viết chương trình in list sau khi đã xóa số tại vị trí thứ 1, thứ 2, thứ 3, thứ 6 trong [12,24,35,70,88,120,155]."
   ]
  },
  {
   "cell_type": "code",
   "execution_count": 12,
   "id": "15d85b40",
   "metadata": {},
   "outputs": [
    {
     "name": "stdout",
     "output_type": "stream",
     "text": [
      "Input: [12, 24, 35, 70, 88, 120, 155]\n",
      "Sau khi Xoa: [12, 88, 120]\n"
     ]
    }
   ],
   "source": [
    "A = [12, 24, 35, 70, 88, 120, 155]\n",
    "print(\"Input:\", A)\n",
    "\n",
    "# Các vị trí cần xóa (theo chỉ số index, bắt đầu từ 0)\n",
    "indexR = [1, 2, 3, 6]\n",
    "\n",
    "# Giữ lại những phần tử không thuộc indexR\n",
    "B = [x for i, x in enumerate(A) if i not in indexR]\n",
    "\n",
    "print(\"Sau khi Xoa:\", B)\n"
   ]
  },
  {
   "cell_type": "markdown",
   "id": "bda5f3c6",
   "metadata": {},
   "source": [
    "3. Xóa các phần tử trùng nhau trong list "
   ]
  },
  {
   "cell_type": "code",
   "execution_count": 1,
   "id": "3c174a5f",
   "metadata": {},
   "outputs": [
    {
     "name": "stdout",
     "output_type": "stream",
     "text": [
      "Input: [1, 1, 1, 2, 2, 2, 3, 1, 2, 5, 6, 7, 8, 5, 6, 7]\n",
      "Output_1: [1, 2, 3, 5, 6, 7, 8]\n",
      "Output_2: [1, 2, 3, 5, 6, 7, 8]\n",
      "Output_3: [1, 2, 3, 5, 6, 7, 8]\n",
      "Output_4: [1, 2, 3, 5, 6, 7, 8]\n"
     ]
    }
   ],
   "source": [
    "A = [1, 1, 1, 2, 2, 2, 3, 1, 2, 5, 6, 7, 8, 5, 6, 7]\n",
    "print(\"Input:\", A)\n",
    "\n",
    "# Cách 1: dùng vòng lặp và append\n",
    "B = []\n",
    "[B.append(x) for x in A if x not in B]\n",
    "print(\"Output_1:\", B)\n",
    "\n",
    "# Cách 2: dùng list comprehension và enumerate\n",
    "newlist = [ii for n, ii in enumerate(A) if ii not in A[:n]]\n",
    "print(\"Output_2:\", newlist)\n",
    "\n",
    "# Cách 3: dùng tập hợp (set)\n",
    "Newlist_set = list(set(A))\n",
    "print(\"Output_3:\", Newlist_set)\n",
    "\n",
    "# Cách 4: dùng từ điển (dict)\n",
    "mylist = list(dict.fromkeys(A))\n",
    "print(\"Output_4:\", mylist)\n"
   ]
  },
  {
   "cell_type": "markdown",
   "id": "2aaaa124",
   "metadata": {},
   "source": [
    "4. Đếm số lần xuất hiện của các phần tử trong list"
   ]
  },
  {
   "cell_type": "code",
   "execution_count": 3,
   "id": "59324fb7",
   "metadata": {},
   "outputs": [
    {
     "name": "stdout",
     "output_type": "stream",
     "text": [
      "1 : 4 2 : 4 3 : 2 4 : 1 5 : 2 \n",
      "\n",
      "[[1, 4], [2, 4], [3, 2], [4, 1], [5, 2]]\n",
      "1 : 4 2 : 4 3 : 2 4 : 1 5 : 2 \n",
      "\n",
      "{1: 4, 2: 4, 3: 2, 4: 1, 5: 2}\n",
      "Counter({1: 4, 2: 4, 3: 2, 5: 2, 4: 1})\n"
     ]
    }
   ],
   "source": [
    "A = [1,1,1,1,2,2,2,2,3,3,4,5,5]\n",
    "\n",
    "# không dùng set và dictionary\n",
    "e = []\n",
    "for i in range(len(A)):\n",
    "    if A[i] not in e:\n",
    "        e.append(A[i])\n",
    "        print(A[i], \":\", A.count(A[i]), end=\" \")\n",
    "print(\"\\n\")\n",
    "\n",
    "# dùng tập hợp (set)\n",
    "b = [[x, A.count(x)] for x in set(A)]\n",
    "print(b)\n",
    "for i in range(len(b)):\n",
    "    print(b[i][0], \":\", b[i][1], end=\" \")\n",
    "print(\"\\n\")\n",
    "\n",
    "# dùng từ điển\n",
    "d = {x: A.count(x) for x in A}\n",
    "print(d)\n",
    "\n",
    "# dùng Counter()\n",
    "import collections\n",
    "ctr = collections.Counter(A)\n",
    "print(ctr)\n"
   ]
  },
  {
   "cell_type": "markdown",
   "id": "bd2ab91d",
   "metadata": {},
   "source": [
    "CẤU TRÚC ĐIỀU KIỆN "
   ]
  },
  {
   "cell_type": "markdown",
   "id": "47571528",
   "metadata": {},
   "source": [
    "1. Nhập một số bất kỳ. Hãy đọc giá trị của số nguyên đó nếu nó có giá trị từ 1đến 9, ngược lại thông báo không đọc được."
   ]
  },
  {
   "cell_type": "code",
   "execution_count": 5,
   "id": "893b1b08",
   "metadata": {},
   "outputs": [
    {
     "name": "stdout",
     "output_type": "stream",
     "text": [
      "Không đọc được\n"
     ]
    }
   ],
   "source": [
    "# Nhập một số nguyên bất kỳ\n",
    "n = int(input(\"Nhập một số nguyên: \"))\n",
    "\n",
    "# Kiểm tra giá trị\n",
    "if 1 <= n <= 9:\n",
    "    print(\"Bạn đã nhập số:\", n)\n",
    "else:\n",
    "    print(\"Không đọc được\")\n"
   ]
  },
  {
   "cell_type": "markdown",
   "id": "f75a271a",
   "metadata": {},
   "source": [
    "2. Nhập một chữ cái. Nếu là chữ thường thì đổi sang chữ hoa, ngược lại đổi sangchữ thường."
   ]
  },
  {
   "cell_type": "code",
   "execution_count": 6,
   "id": "33068d02",
   "metadata": {},
   "outputs": [
    {
     "name": "stdout",
     "output_type": "stream",
     "text": [
      "Kết quả: A\n"
     ]
    }
   ],
   "source": [
    "# Nhập một chữ cái\n",
    "ch = input(\"Nhập một chữ cái: \")\n",
    "\n",
    "# Kiểm tra độ dài (chỉ cho nhập 1 ký tự)\n",
    "if len(ch) == 1 and ch.isalpha():\n",
    "    # Đổi hoa <-> thường\n",
    "    if ch.islower():\n",
    "        print(\"Kết quả:\", ch.upper())\n",
    "    else:\n",
    "        print(\"Kết quả:\", ch.lower())\n",
    "else:\n",
    "    print(\"Vui lòng nhập đúng một chữ cái.\")\n"
   ]
  },
  {
   "cell_type": "markdown",
   "id": "4a6011e4",
   "metadata": {},
   "source": [
    "3. Giải phương trình bậc nhất ax + b = 0."
   ]
  },
  {
   "cell_type": "code",
   "execution_count": 7,
   "id": "b2e6a6ff",
   "metadata": {},
   "outputs": [
    {
     "name": "stdout",
     "output_type": "stream",
     "text": [
      "Nghiệm của phương trình là: x = -2.5\n"
     ]
    }
   ],
   "source": [
    "# Giải phương trình bậc nhất: ax + b = 0\n",
    "\n",
    "a = float(input(\"Nhập hệ số a: \"))\n",
    "b = float(input(\"Nhập hệ số b: \"))\n",
    "\n",
    "if a == 0:\n",
    "    if b == 0:\n",
    "        print(\"Phương trình có vô số nghiệm.\")\n",
    "    else:\n",
    "        print(\"Phương trình vô nghiệm.\")\n",
    "else:\n",
    "    x = -b / a\n",
    "    print(\"Nghiệm của phương trình là: x =\", x)\n"
   ]
  },
  {
   "cell_type": "markdown",
   "id": "62caf341",
   "metadata": {},
   "source": [
    "4. Giải phương trình bậc hai ax2 + bx + c = 0."
   ]
  },
  {
   "cell_type": "code",
   "execution_count": 8,
   "id": "a3133d94",
   "metadata": {},
   "outputs": [
    {
     "name": "stdout",
     "output_type": "stream",
     "text": [
      "Phương trình vô nghiệm.\n"
     ]
    }
   ],
   "source": [
    "import math\n",
    "\n",
    "# Nhập hệ số\n",
    "a = float(input(\"Nhập hệ số a: \"))\n",
    "b = float(input(\"Nhập hệ số b: \"))\n",
    "c = float(input(\"Nhập hệ số c: \"))\n",
    "\n",
    "if a == 0:\n",
    "    # Khi a = 0 thì trở thành phương trình bậc nhất bx + c = 0\n",
    "    if b == 0:\n",
    "        if c == 0:\n",
    "            print(\"Phương trình có vô số nghiệm.\")\n",
    "        else:\n",
    "            print(\"Phương trình vô nghiệm.\")\n",
    "    else:\n",
    "        x = -c / b\n",
    "        print(\"Phương trình có nghiệm duy nhất: x =\", x)\n",
    "else:\n",
    "    # Tính delta\n",
    "    delta = b**2 - 4*a*c\n",
    "\n",
    "    if delta < 0:\n",
    "        print(\"Phương trình vô nghiệm.\")\n",
    "    elif delta == 0:\n",
    "        x = -b / (2*a)\n",
    "        print(\"Phương trình có nghiệm kép: x1 = x2 =\", x)\n",
    "    else:\n",
    "        x1 = (-b + math.sqrt(delta)) / (2*a)\n",
    "        x2 = (-b - math.sqrt(delta)) / (2*a)\n",
    "        print(\"Phương trình có 2 nghiệm phân biệt:\")\n",
    "        print(\"x1 =\", x1)\n",
    "        print(\"x2 =\", x2)\n"
   ]
  },
  {
   "cell_type": "markdown",
   "id": "cc8af38c",
   "metadata": {},
   "source": [
    "5. Nhập 4 số nguyên a, b, c và d. Tìm số có giá trị nhỏ nhất (min)"
   ]
  },
  {
   "cell_type": "code",
   "execution_count": 9,
   "id": "d6eb62ba",
   "metadata": {},
   "outputs": [
    {
     "name": "stdout",
     "output_type": "stream",
     "text": [
      "Số nhỏ nhất là: 1\n"
     ]
    }
   ],
   "source": [
    "# Nhập 4 số nguyên\n",
    "a = int(input(\"Nhập số a: \"))\n",
    "b = int(input(\"Nhập số b: \"))\n",
    "c = int(input(\"Nhập số c: \"))\n",
    "d = int(input(\"Nhập số d: \"))\n",
    "\n",
    "# Tìm giá trị nhỏ nhất\n",
    "min_value = min(a, b, c, d)\n",
    "print(\"Số nhỏ nhất là:\", min_value)\n"
   ]
  },
  {
   "cell_type": "markdown",
   "id": "152dcabc",
   "metadata": {},
   "source": [
    "6. Nhập 4 số nguyên a, b, c và d. Hãy sắp xếp giá trị của 4 số nguyên này theo thứ tự tăng dần."
   ]
  },
  {
   "cell_type": "code",
   "execution_count": 10,
   "id": "dabc9245",
   "metadata": {},
   "outputs": [
    {
     "name": "stdout",
     "output_type": "stream",
     "text": [
      "Thứ tự tăng dần: [2, 3, 6, 7]\n"
     ]
    }
   ],
   "source": [
    "# Nhập 4 số nguyên\n",
    "a = int(input(\"Nhập số a: \"))\n",
    "b = int(input(\"Nhập số b: \"))\n",
    "c = int(input(\"Nhập số c: \"))\n",
    "d = int(input(\"Nhập số d: \"))\n",
    "\n",
    "# Đưa vào list và sắp xếp\n",
    "nums = [a, b, c, d]\n",
    "nums_sorted = sorted(nums)\n",
    "\n",
    "print(\"Thứ tự tăng dần:\", nums_sorted)\n"
   ]
  },
  {
   "cell_type": "markdown",
   "id": "ebf7301f",
   "metadata": {},
   "source": [
    "7. Tính tiền đi taxi từ số km nhập vào. Biết:\n",
    "• 1 km đầu giá 15000đ\n",
    "• Từ km thứ 2 đến km thứ 5 giá 13500đ\n",
    "• Từ km thứ 6 trở đi giá 11000\n",
    "• Nếu trên 120km được giảm 10% tổng tiền."
   ]
  },
  {
   "cell_type": "code",
   "execution_count": 13,
   "id": "9c7fb24d",
   "metadata": {},
   "outputs": [
    {
     "name": "stdout",
     "output_type": "stream",
     "text": [
      "Số tiền phải trả: 1240200 đ\n"
     ]
    }
   ],
   "source": [
    "# Nhập số km đi được\n",
    "km = float(input(\"Nhập số km đã đi: \"))\n",
    "\n",
    "# Tính tiền taxi\n",
    "if km <= 0:\n",
    "    print(\"Số km không hợp lệ!\")\n",
    "else:\n",
    "    if km <= 1:\n",
    "        money = 15000\n",
    "    elif km <= 5:\n",
    "        money = 15000 + (km - 1) * 13500\n",
    "    else:\n",
    "        money = 15000 + 4 * 13500 + (km - 5) * 11000\n",
    "\n",
    "    # Giảm giá nếu trên 120 km\n",
    "    if km > 120:\n",
    "        money *= 0.9\n",
    "\n",
    "    print(\"Số tiền phải trả:\", int(money), \"đ\")\n"
   ]
  },
  {
   "cell_type": "markdown",
   "id": "a5a3b7e6",
   "metadata": {},
   "source": [
    "8. Nhập vào tháng và năm. Cho biết tháng đó có bao nhiêu ngày."
   ]
  },
  {
   "cell_type": "code",
   "execution_count": 16,
   "id": "f606c4e1",
   "metadata": {},
   "outputs": [
    {
     "name": "stdout",
     "output_type": "stream",
     "text": [
      "Tháng 1/2001 có 31 ngày.\n"
     ]
    }
   ],
   "source": [
    "# Nhập tháng và năm\n",
    "month = int(input(\"Nhập tháng (1-12): \"))\n",
    "year = int(input(\"Nhập năm: \"))\n",
    "\n",
    "if month < 1 or month > 12:\n",
    "    print(\"Tháng không hợp lệ!\")\n",
    "else:\n",
    "    if month in [1, 3, 5, 7, 8, 10, 12]:\n",
    "        days = 31\n",
    "    elif month in [4, 6, 9, 11]:\n",
    "        days = 30\n",
    "    else:  # tháng 2\n",
    "        # kiểm tra năm nhuận\n",
    "        if (year % 400 == 0) or (year % 4 == 0 and year % 100 != 0):\n",
    "            days = 29\n",
    "        else:\n",
    "            days = 28\n",
    "\n",
    "    print(f\"Tháng {month}/{year} có {days} ngày.\")\n"
   ]
  },
  {
   "cell_type": "markdown",
   "id": "98b01ddd",
   "metadata": {},
   "source": [
    "9. Nhập độ dài 3 cạnh 1 tam giác. Kiểm tra đó có phải là tam giác không và là tam giác gì?"
   ]
  },
  {
   "cell_type": "code",
   "execution_count": 17,
   "id": "728e43c1",
   "metadata": {},
   "outputs": [
    {
     "name": "stdout",
     "output_type": "stream",
     "text": [
      "Ba cạnh đã nhập không tạo thành tam giác.\n"
     ]
    }
   ],
   "source": [
    "# Nhập độ dài 3 cạnh\n",
    "a = float(input(\"Nhập cạnh a: \"))\n",
    "b = float(input(\"Nhập cạnh b: \"))\n",
    "c = float(input(\"Nhập cạnh c: \"))\n",
    "\n",
    "if a <= 0 or b <= 0 or c <= 0:\n",
    "    print(\"Độ dài cạnh không hợp lệ!\")\n",
    "elif (a + b > c) and (a + c > b) and (b + c > a):\n",
    "    # Là tam giác\n",
    "    if a == b == c:\n",
    "        print(\"Đây là tam giác đều.\")\n",
    "    elif a == b or b == c or a == c:\n",
    "        # Kiểm tra thêm vuông cân\n",
    "        if (a**2 + b**2 == c**2) or (a**2 + c**2 == b**2) or (b**2 + c**2 == a**2):\n",
    "            print(\"Đây là tam giác vuông cân.\")\n",
    "        else:\n",
    "            print(\"Đây là tam giác cân.\")\n",
    "    elif (a**2 + b**2 == c**2) or (a**2 + c**2 == b**2) or (b**2 + c**2 == a**2):\n",
    "        print(\"Đây là tam giác vuông.\")\n",
    "    else:\n",
    "        print(\"Đây là tam giác thường.\")\n",
    "else:\n",
    "    print(\"Ba cạnh đã nhập không tạo thành tam giác.\")\n"
   ]
  },
  {
   "cell_type": "markdown",
   "id": "da92b85e",
   "metadata": {},
   "source": [
    "CẤU TRÚC LẬP "
   ]
  },
  {
   "cell_type": "code",
   "execution_count": null,
   "id": "9bffd53c",
   "metadata": {},
   "outputs": [],
   "source": [
    "1. Nhập một số nguyên dương n (n > 0). Hãy cho biết:\n",
    "• Có phải là số đối xứng? Ví dụ: 121, 12321, ...\n",
    "• Có phải là số chính phương? Ví dụ: 4, 9, 16, ...\n",
    "• Có phải là số nguyên tố? Ví dụ: 2, 3, 5, 7, ...\n",
    "• Chữ số lớn nhất và nhỏ nhất?\n",
    "• Các chữ số có tăng dần hay giảm dần không?\n"
   ]
  },
  {
   "cell_type": "code",
   "execution_count": 1,
   "id": "7dfccbc4",
   "metadata": {},
   "outputs": [
    {
     "name": "stdout",
     "output_type": "stream",
     "text": [
      "3 là số đối xứng.\n",
      "3 không phải là số chính phương.\n",
      "3 là số nguyên tố.\n",
      "Chữ số lớn nhất: 3\n",
      "Chữ số nhỏ nhất: 3\n",
      "Các chữ số tăng dần.\n"
     ]
    }
   ],
   "source": [
    "import math\n",
    "\n",
    "# Nhập số nguyên dương\n",
    "n = int(input(\"Nhập số nguyên dương n (>0): \"))\n",
    "\n",
    "if n <= 0:\n",
    "    print(\"Số nhập không hợp lệ!\")\n",
    "else:\n",
    "    s = str(n)\n",
    "\n",
    "    # 1. Kiểm tra số đối xứng\n",
    "    if s == s[::-1]:\n",
    "        print(n, \"là số đối xứng.\")\n",
    "    else:\n",
    "        print(n, \"không phải là số đối xứng.\")\n",
    "\n",
    "    # 2. Kiểm tra số chính phương\n",
    "    sqrt_n = int(math.sqrt(n))\n",
    "    if sqrt_n * sqrt_n == n:\n",
    "        print(n, \"là số chính phương.\")\n",
    "    else:\n",
    "        print(n, \"không phải là số chính phương.\")\n",
    "\n",
    "    # 3. Kiểm tra số nguyên tố\n",
    "    def is_prime(x):\n",
    "        if x < 2:\n",
    "            return False\n",
    "        for i in range(2, int(math.sqrt(x)) + 1):\n",
    "            if x % i == 0:\n",
    "                return False\n",
    "        return True\n",
    "\n",
    "    if is_prime(n):\n",
    "        print(n, \"là số nguyên tố.\")\n",
    "    else:\n",
    "        print(n, \"không phải là số nguyên tố.\")\n",
    "\n",
    "    # 4. Chữ số lớn nhất và nhỏ nhất\n",
    "    digits = [int(ch) for ch in s]\n",
    "    print(\"Chữ số lớn nhất:\", max(digits))\n",
    "    print(\"Chữ số nhỏ nhất:\", min(digits))\n",
    "\n",
    "    # 5. Kiểm tra tăng dần / giảm dần\n",
    "    if all(digits[i] <= digits[i+1] for i in range(len(digits)-1)):\n",
    "        print(\"Các chữ số tăng dần.\")\n",
    "    elif all(digits[i] >= digits[i+1] for i in range(len(digits)-1)):\n",
    "        print(\"Các chữ số giảm dần.\")\n",
    "    else:\n",
    "        print(\"Các chữ số không tăng dần cũng không giảm dần.\")\n"
   ]
  },
  {
   "cell_type": "markdown",
   "id": "73b59433",
   "metadata": {},
   "source": [
    "2. Nhập một số nguyên dương n. Tính:\n",
    "a. S = 1 + 2 + ... + n\n",
    "b. S = 12 + 22 + ... + n2\n",
    "c. S = 1 + 1/2 + ... + 1/n\n",
    "d. S = 1*2*...*n = n!\n",
    "e. S = 1! + 2! + ... + n!"
   ]
  },
  {
   "cell_type": "code",
   "execution_count": 2,
   "id": "4433df3f",
   "metadata": {},
   "outputs": [
    {
     "name": "stdout",
     "output_type": "stream",
     "text": [
      "a. Tổng 1 + 2 + ... + n = 10\n",
      "b. Tổng 1^2 + 2^2 + ... + n^2 = 30\n",
      "c. Tổng 1 + 1/2 + ... + 1/n = 2.0833333333333335\n",
      "d. Tích 1*2*...*n = n! = 24\n",
      "e. Tổng 1! + 2! + ... + n! = 33\n"
     ]
    }
   ],
   "source": [
    "import math\n",
    "\n",
    "# Nhập số nguyên dương n\n",
    "n = int(input(\"Nhập số nguyên dương n: \"))\n",
    "\n",
    "if n <= 0:\n",
    "    print(\"Số nhập không hợp lệ!\")\n",
    "else:\n",
    "    # a. S = 1 + 2 + ... + n\n",
    "    S1 = sum(range(1, n+1))\n",
    "\n",
    "    # b. S = 1^2 + 2^2 + ... + n^2\n",
    "    S2 = sum(i**2 for i in range(1, n+1))\n",
    "\n",
    "    # c. S = 1 + 1/2 + ... + 1/n\n",
    "    S3 = sum(1/i for i in range(1, n+1))\n",
    "\n",
    "    # d. S = 1*2*...*n = n!\n",
    "    S4 = math.factorial(n)\n",
    "\n",
    "    # e. S = 1! + 2! + ... + n!\n",
    "    S5 = sum(math.factorial(i) for i in range(1, n+1))\n",
    "\n",
    "    # In kết quả\n",
    "    print(\"a. Tổng 1 + 2 + ... + n =\", S1)\n",
    "    print(\"b. Tổng 1^2 + 2^2 + ... + n^2 =\", S2)\n",
    "    print(\"c. Tổng 1 + 1/2 + ... + 1/n =\", S3)\n",
    "    print(\"d. Tích 1*2*...*n = n! =\", S4)\n",
    "    print(\"e. Tổng 1! + 2! + ... + n! =\", S5)\n"
   ]
  },
  {
   "cell_type": "markdown",
   "id": "9f44d86d",
   "metadata": {},
   "source": [
    "3. Nhập 3 số nguyên a, b và n với a, b < n. Tính tổng các số nguyên dương nhỏ hơn n chiahết cho a nhưng không chia hết cho b."
   ]
  },
  {
   "cell_type": "code",
   "execution_count": 3,
   "id": "7ee7026a",
   "metadata": {},
   "outputs": [
    {
     "name": "stdout",
     "output_type": "stream",
     "text": [
      "Tổng các số nguyên dương nhỏ hơn 10 chia hết cho 2 nhưng không chia hết cho 3 là: 14\n"
     ]
    }
   ],
   "source": [
    "# Nhập dữ liệu\n",
    "a = int(input(\"Nhập số a: \"))\n",
    "b = int(input(\"Nhập số b: \"))\n",
    "n = int(input(\"Nhập số n: \"))\n",
    "\n",
    "if a <= 0 or b <= 0 or n <= 0:\n",
    "    print(\"Các số phải lớn hơn 0.\")\n",
    "else:\n",
    "    total = 0\n",
    "    for k in range(1, n):\n",
    "        if k % a == 0 and k % b != 0:\n",
    "            total += k\n",
    "\n",
    "    print(\"Tổng các số nguyên dương nhỏ hơn\", n,\n",
    "          \"chia hết cho\", a, \"nhưng không chia hết cho\", b, \"là:\", total)\n"
   ]
  },
  {
   "cell_type": "markdown",
   "id": "3f4a764a",
   "metadata": {},
   "source": [
    "4. Tính tổng các số nguyên tố nhỏ hơn n (0 < n < 50)"
   ]
  },
  {
   "cell_type": "code",
   "execution_count": 4,
   "id": "12998a20",
   "metadata": {},
   "outputs": [
    {
     "name": "stdout",
     "output_type": "stream",
     "text": [
      "Tổng các số nguyên tố nhỏ hơn 5 là: 5\n"
     ]
    }
   ],
   "source": [
    "import math\n",
    "\n",
    "# Nhập n\n",
    "n = int(input(\"Nhập n (0 < n < 50): \"))\n",
    "\n",
    "def is_prime(x):\n",
    "    if x < 2:\n",
    "        return False\n",
    "    for i in range(2, int(math.sqrt(x)) + 1):\n",
    "        if x % i == 0:\n",
    "            return False\n",
    "    return True\n",
    "\n",
    "if n <= 0 or n >= 50:\n",
    "    print(\"Giá trị n không hợp lệ! (0 < n < 50)\")\n",
    "else:\n",
    "    total = sum(i for i in range(2, n) if is_prime(i))\n",
    "    print(\"Tổng các số nguyên tố nhỏ hơn\", n, \"là:\", total)\n"
   ]
  },
  {
   "cell_type": "markdown",
   "id": "6fe1af3c",
   "metadata": {},
   "source": [
    "5. Nhập một số nguyên dương n. Xuất ra số ngược lại.Ví dụ: Nhập 1706 -> Xuất 6071."
   ]
  },
  {
   "cell_type": "code",
   "execution_count": 5,
   "id": "1772538e",
   "metadata": {},
   "outputs": [
    {
     "name": "stdout",
     "output_type": "stream",
     "text": [
      "Số ngược lại là: 6071\n"
     ]
    }
   ],
   "source": [
    "# Nhập số nguyên dương n\n",
    "n = int(input(\"Nhập số nguyên dương n: \"))\n",
    "\n",
    "if n <= 0:\n",
    "    print(\"Số nhập không hợp lệ!\")\n",
    "else:\n",
    "    # Đảo ngược bằng chuỗi\n",
    "    reversed_n = int(str(n)[::-1])\n",
    "    print(\"Số ngược lại là:\", reversed_n)\n"
   ]
  },
  {
   "cell_type": "markdown",
   "id": "4ee2e4c8",
   "metadata": {},
   "source": [
    "6. Tìm và in lên màn hình tất cả các số nguyên trong phạm vi từ 10 đến 99 saocho tích của 2 chữ số bằng 2 lần tổng của 2 chữ số đó."
   ]
  },
  {
   "cell_type": "code",
   "execution_count": 6,
   "id": "7c2f8fb8",
   "metadata": {},
   "outputs": [
    {
     "name": "stdout",
     "output_type": "stream",
     "text": [
      "36\n",
      "44\n",
      "63\n"
     ]
    }
   ],
   "source": [
    "# Tìm số có 2 chữ số thoả điều kiện\n",
    "for num in range(10, 100):\n",
    "    x = num // 10   # chữ số hàng chục\n",
    "    y = num % 10    # chữ số hàng đơn vị\n",
    "\n",
    "    if x * y == 2 * (x + y):\n",
    "        print(num)\n"
   ]
  },
  {
   "cell_type": "markdown",
   "id": "fd27ac78",
   "metadata": {},
   "source": [
    "7. Tìm ước số chung lớn nhất của 2 số nguyên dương a và b nhập từ bàn phím."
   ]
  },
  {
   "cell_type": "code",
   "execution_count": 7,
   "id": "be285f4b",
   "metadata": {},
   "outputs": [
    {
     "name": "stdout",
     "output_type": "stream",
     "text": [
      "Ước số chung lớn nhất của 24 và 36 là: 12\n",
      "Kết quả theo Euclid: 12\n"
     ]
    }
   ],
   "source": [
    "import math\n",
    "\n",
    "# Nhập 2 số nguyên dương\n",
    "a = int(input(\"Nhập số a: \"))\n",
    "b = int(input(\"Nhập số b: \"))\n",
    "\n",
    "if a <= 0 or b <= 0:\n",
    "    print(\"Hai số phải là số nguyên dương!\")\n",
    "else:\n",
    "    # Cách 1: Dùng thư viện\n",
    "    gcd = math.gcd(a, b)\n",
    "    print(\"Ước số chung lớn nhất của\", a, \"và\", b, \"là:\", gcd)\n",
    "\n",
    "    # Cách 2: Thuật toán Euclid (tự viết)\n",
    "    x, y = a, b\n",
    "    while y != 0:\n",
    "        x, y = y, x % y\n",
    "    print(\"Kết quả theo Euclid:\", x)\n"
   ]
  },
  {
   "cell_type": "markdown",
   "id": "c639a239",
   "metadata": {},
   "source": [
    "8. Nhập n. In n số đầu tiên trong dãy Fibonacy.a0 = a1 = 1an = an – 1 + an – 2"
   ]
  },
  {
   "cell_type": "code",
   "execution_count": 1,
   "id": "f326a15e",
   "metadata": {},
   "outputs": [
    {
     "name": "stdout",
     "output_type": "stream",
     "text": [
      "1 số đầu tiên của dãy Fibonacci:\n",
      "[1]\n"
     ]
    }
   ],
   "source": [
    "# Nhập n\n",
    "n = int(input(\"Nhập n: \"))\n",
    "\n",
    "if n <= 0:\n",
    "    print(\"n phải là số nguyên dương!\")\n",
    "else:\n",
    "    a, b = 1, 1\n",
    "    fib = []\n",
    "\n",
    "    for i in range(n):\n",
    "        fib.append(a)\n",
    "        a, b = b, a + b\n",
    "\n",
    "    print(f\"{n} số đầu tiên của dãy Fibonacci:\")\n",
    "    print(fib)\n"
   ]
  },
  {
   "cell_type": "markdown",
   "id": "e8bf4a94",
   "metadata": {},
   "source": [
    "Ma Trận 2 Chiều "
   ]
  },
  {
   "cell_type": "code",
   "execution_count": 2,
   "id": "ec79105c",
   "metadata": {},
   "outputs": [
    {
     "name": "stdout",
     "output_type": "stream",
     "text": [
      "Array A:\n",
      "123\n",
      "456\n"
     ]
    }
   ],
   "source": [
    "# Nhập số dòng và số cột\n",
    "n, m = map(int, input().split())\n",
    "\n",
    "# Khởi tạo ma trận rỗng\n",
    "A = []\n",
    "\n",
    "# Nhập ma trận\n",
    "for i in range(n):\n",
    "    row = list(map(int, input().split()))\n",
    "    A.append(row)\n",
    "\n",
    "# Xuất ma trận\n",
    "print(\"Array A:\")\n",
    "for row in A:\n",
    "    print(*row)\n"
   ]
  },
  {
   "cell_type": "markdown",
   "id": "f10d40e0",
   "metadata": {},
   "source": [
    "Bài 2: Tính trung bình cộng mảng 2 chiều TrungBinhCongMang2C"
   ]
  },
  {
   "cell_type": "code",
   "execution_count": 4,
   "id": "c86e148f",
   "metadata": {},
   "outputs": [
    {
     "name": "stdout",
     "output_type": "stream",
     "text": [
      "Trung binh cong cac so duong: 4.925\n"
     ]
    }
   ],
   "source": [
    "# Nhập số dòng và số cột\n",
    "n, m = map(int, input().split())\n",
    "\n",
    "# Khởi tạo ma trận rỗng\n",
    "A = []\n",
    "\n",
    "# Nhập ma trận\n",
    "for i in range(n):\n",
    "    row = list(map(float, input().split()))\n",
    "    A.append(row)\n",
    "\n",
    "# Tính trung bình cộng các số dương\n",
    "tong = 0\n",
    "dem = 0\n",
    "for i in range(n):\n",
    "    for j in range(m):\n",
    "        if A[i][j] > 0:\n",
    "            tong += A[i][j]\n",
    "            dem += 1\n",
    "\n",
    "if dem > 0:\n",
    "    tbc = tong / dem\n",
    "    print(\"Trung binh cong cac so duong:\", tbc)\n",
    "else:\n",
    "    print(\"Khong co so duong nao trong ma tran.\")\n"
   ]
  },
  {
   "cell_type": "markdown",
   "id": "68236800",
   "metadata": {},
   "source": [
    "Bài 3: Ma trận toàn chẵn MaTranToanChan. "
   ]
  },
  {
   "cell_type": "code",
   "execution_count": 7,
   "id": "bbdb8b9f",
   "metadata": {},
   "outputs": [
    {
     "name": "stdout",
     "output_type": "stream",
     "text": [
      "Mang A khong toan chan!\n"
     ]
    }
   ],
   "source": [
    "# Nhập số dòng và số cột\n",
    "n, m = map(int, input().split())\n",
    "\n",
    "# Khởi tạo ma trận rỗng\n",
    "A = []\n",
    "\n",
    "# Nhập ma trận\n",
    "for i in range(n):\n",
    "    row = list(map(int, input().split()))\n",
    "    A.append(row)\n",
    "\n",
    "# Kiểm tra toàn chẵn\n",
    "toan_chan = True\n",
    "for i in range(n):\n",
    "    for j in range(m):\n",
    "        if A[i][j] % 2 != 0:   # gặp số lẻ\n",
    "            toan_chan = False\n",
    "            break\n",
    "    if not toan_chan:\n",
    "        break\n",
    "\n",
    "# Xuất kết quả\n",
    "if toan_chan:\n",
    "    print(\"Mang A toan chan!\")\n",
    "else:\n",
    "    print(\"Mang A khong toan chan!\")\n"
   ]
  },
  {
   "cell_type": "markdown",
   "id": "1f291251",
   "metadata": {},
   "source": [
    "Bài 4: Dòng nhiều nguyên âm nhất "
   ]
  },
  {
   "cell_type": "code",
   "execution_count": 8,
   "id": "8264fabf",
   "metadata": {},
   "outputs": [
    {
     "name": "stdout",
     "output_type": "stream",
     "text": [
      "Dong 3 co nhieu nguyen am nhat voi so luong nguyen am la 3.\n"
     ]
    }
   ],
   "source": [
    "# Nhập số dòng và số cột\n",
    "n, m = map(int, input().split())\n",
    "\n",
    "# Tập hợp các nguyên âm (cả chữ hoa và chữ thường)\n",
    "nguyen_am = set(\"AEIOUaeiou\")\n",
    "\n",
    "# Khởi tạo ma trận rỗng\n",
    "A = []\n",
    "\n",
    "# Nhập ma trận\n",
    "for i in range(n):\n",
    "    row = input().split()\n",
    "    A.append(row)\n",
    "\n",
    "# Tìm dòng có nhiều nguyên âm nhất\n",
    "max_count = -1\n",
    "dong_max = -1\n",
    "\n",
    "for i in range(n):\n",
    "    count = sum(1 for ch in A[i] if ch in nguyen_am)\n",
    "    if count > max_count:\n",
    "        max_count = count\n",
    "        dong_max = i + 1   # đánh số dòng từ 1\n",
    "\n",
    "# Xuất kết quả\n",
    "print(f\"Dong {dong_max} co nhieu nguyen am nhat voi so luong nguyen am la {max_count}.\")\n"
   ]
  },
  {
   "cell_type": "markdown",
   "id": "87ce13c5",
   "metadata": {},
   "source": [
    "Bài 5: Cột có nhiều nguyên tố nhất "
   ]
  },
  {
   "cell_type": "code",
   "execution_count": 9,
   "id": "34a326b5",
   "metadata": {},
   "outputs": [
    {
     "name": "stdout",
     "output_type": "stream",
     "text": [
      "Cac cot nhieu nguyen to nhat: 0 2\n"
     ]
    }
   ],
   "source": [
    "# Hàm kiểm tra số nguyên tố\n",
    "def is_prime(n):\n",
    "    if n < 2:\n",
    "        return False\n",
    "    for i in range(2, int(n**0.5) + 1):\n",
    "        if n % i == 0:\n",
    "            return False\n",
    "    return True\n",
    "\n",
    "# Nhập số dòng và số cột\n",
    "n, m = map(int, input().split())\n",
    "\n",
    "# Nhập ma trận\n",
    "A = []\n",
    "for i in range(n):\n",
    "    row = list(map(int, input().split()))\n",
    "    A.append(row)\n",
    "\n",
    "# Đếm số nguyên tố theo từng cột\n",
    "prime_counts = [0] * m\n",
    "for j in range(m):\n",
    "    for i in range(n):\n",
    "        if is_prime(A[i][j]):\n",
    "            prime_counts[j] += 1\n",
    "\n",
    "# Tìm giá trị lớn nhất\n",
    "max_count = max(prime_counts)\n",
    "\n",
    "# Lấy các cột có nhiều số nguyên tố nhất\n",
    "cols = [j for j in range(m) if prime_counts[j] == max_count]\n",
    "\n",
    "# Xuất kết quả\n",
    "print(\"Cac cot nhieu nguyen to nhat:\", *cols)\n"
   ]
  },
  {
   "cell_type": "markdown",
   "id": "3ad6a744",
   "metadata": {},
   "source": [
    "Ma Trận Vuông "
   ]
  },
  {
   "cell_type": "markdown",
   "id": "7f7ad98f",
   "metadata": {},
   "source": [
    "Bài 1: In chéo chính, phụ "
   ]
  },
  {
   "cell_type": "code",
   "execution_count": 10,
   "id": "c89c39d1",
   "metadata": {},
   "outputs": [
    {
     "name": "stdout",
     "output_type": "stream",
     "text": [
      "Cac phan tu tren cheo chinh: 5 5 0 2 7\n",
      "Cac phan tu tren cheo phu: 0 1 0 0 1\n"
     ]
    }
   ],
   "source": [
    "# Nhập kích thước ma trận vuông\n",
    "n = int(input())\n",
    "\n",
    "# Nhập ma trận\n",
    "A = []\n",
    "for i in range(n):\n",
    "    row = list(map(int, input().split()))\n",
    "    A.append(row)\n",
    "\n",
    "# Lấy các phần tử trên đường chéo chính\n",
    "cheo_chinh = [A[i][i] for i in range(n)]\n",
    "\n",
    "# Lấy các phần tử trên đường chéo phụ\n",
    "cheo_phu = [A[i][n - i - 1] for i in range(n)]\n",
    "\n",
    "# Xuất kết quả\n",
    "print(\"Cac phan tu tren cheo chinh:\", *cheo_chinh)\n",
    "print(\"Cac phan tu tren cheo phu:\", *cheo_phu)\n"
   ]
  },
  {
   "cell_type": "markdown",
   "id": "99f1282a",
   "metadata": {},
   "source": [
    "Bài 2: In tam giác trên chéo chính, phụ "
   ]
  },
  {
   "cell_type": "code",
   "execution_count": 11,
   "id": "bdac36c9",
   "metadata": {},
   "outputs": [
    {
     "name": "stdout",
     "output_type": "stream",
     "text": [
      "Tam giac tren cheo chinh: 5 5 0 0 0 1 1 0 0 3\n",
      "Tam giac tren cheo phu: 5 5 5 0 0 5 0 0 5 0\n"
     ]
    }
   ],
   "source": [
    "# Nhập kích thước ma trận vuông\n",
    "n = int(input())\n",
    "\n",
    "# Nhập ma trận\n",
    "A = []\n",
    "for i in range(n):\n",
    "    row = list(map(int, input().split()))\n",
    "    A.append(row)\n",
    "\n",
    "# Tam giác trên chéo chính (không tính đường chéo chính)\n",
    "tg_cheo_chinh = []\n",
    "for i in range(n):\n",
    "    for j in range(i + 1, n):  # j > i\n",
    "        tg_cheo_chinh.append(A[i][j])\n",
    "\n",
    "# Tam giác trên chéo phụ (không tính đường chéo phụ)\n",
    "tg_cheo_phu = []\n",
    "for i in range(n):\n",
    "    for j in range(n - i - 1):  # j < n - i - 1\n",
    "        tg_cheo_phu.append(A[i][j])\n",
    "\n",
    "# Xuất kết quả\n",
    "print(\"Tam giac tren cheo chinh:\", *tg_cheo_chinh)\n",
    "print(\"Tam giac tren cheo phu:\", *tg_cheo_phu)\n"
   ]
  },
  {
   "cell_type": "markdown",
   "id": "635de9e3",
   "metadata": {},
   "source": [
    "Bài 3: Đếm loại số tam giác trên chéo chính "
   ]
  },
  {
   "cell_type": "code",
   "execution_count": 16,
   "id": "af923d5b",
   "metadata": {},
   "outputs": [
    {
     "name": "stdout",
     "output_type": "stream",
     "text": [
      "Trong nua tam giac tren cheo chinh:\n",
      "+ 0 so am\n",
      "+ 4 so duong\n",
      "+ 6 so khong\n"
     ]
    }
   ],
   "source": [
    "n = int(input())\n",
    "\n",
    "A = []\n",
    "for i in range(n):\n",
    "    row = []\n",
    "    # tiếp tục đọc cho tới khi row có đủ n phần tử\n",
    "    while len(row) < n:\n",
    "        parts = input().strip().split()\n",
    "        if not parts:\n",
    "            continue\n",
    "        row.extend(map(int, parts))\n",
    "    A.append(row[:n])\n",
    "\n",
    "so_am = so_duong = so_khong = 0\n",
    "\n",
    "# Duyệt tam giác trên đường chéo chính (không tính đường chéo): j > i\n",
    "for i in range(n):\n",
    "    for j in range(i + 1, n):\n",
    "        val = A[i][j]\n",
    "        if val < 0:\n",
    "            so_am += 1\n",
    "        elif val > 0:\n",
    "            so_duong += 1\n",
    "        else:\n",
    "            so_khong += 1\n",
    "\n",
    "print(\"Trong nua tam giac tren cheo chinh:\")\n",
    "print(\"+\", so_am, \"so am\")\n",
    "print(\"+\", so_duong, \"so duong\")\n",
    "print(\"+\", so_khong, \"so khong\")\n"
   ]
  },
  {
   "cell_type": "markdown",
   "id": "8425ef1e",
   "metadata": {},
   "source": [
    "Bài 4: In các đường song song chéo chính, phụ "
   ]
  },
  {
   "cell_type": "code",
   "execution_count": 17,
   "id": "e346e10c",
   "metadata": {},
   "outputs": [
    {
     "name": "stdout",
     "output_type": "stream",
     "text": [
      "Cac duong song song cheo chinh: [[5], [4, 10], [3, 9, 15], [2, 8, 14, 20], [1, 7, 13, 19, 25], [6, 12, 18, 24], [11, 17, 23], [16, 22], [21]]\n",
      "Cac duong song song cheo phu: [[1], [2, 6], [3, 7, 11], [4, 8, 12, 16], [5, 9, 13, 17, 21], [10, 14, 18, 22], [15, 19, 23], [20, 24], [25]]\n"
     ]
    }
   ],
   "source": [
    "# Nhập kích thước\n",
    "n = int(input())\n",
    "\n",
    "# Nhập ma trận\n",
    "A = []\n",
    "for _ in range(n):\n",
    "    A.append(list(map(int, input().split())))\n",
    "\n",
    "# Đường song song với chéo chính (i - j = const)\n",
    "cheo_chinh_song_song = []\n",
    "for k in range(-(n-1), n):   # từ -(n-1) đến (n-1)\n",
    "    duong = []\n",
    "    for i in range(n):\n",
    "        j = i - k\n",
    "        if 0 <= j < n:\n",
    "            duong.append(A[i][j])\n",
    "    if duong:\n",
    "        cheo_chinh_song_song.append(duong)\n",
    "\n",
    "# Đường song song với chéo phụ (i + j = const)\n",
    "cheo_phu_song_song = []\n",
    "for k in range(0, 2*n - 1):  # từ 0 đến 2n-2\n",
    "    duong = []\n",
    "    for i in range(n):\n",
    "        j = k - i\n",
    "        if 0 <= j < n:\n",
    "            duong.append(A[i][j])\n",
    "    if duong:\n",
    "        cheo_phu_song_song.append(duong)\n",
    "\n",
    "# Xuất kết quả\n",
    "print(\"Cac duong song song cheo chinh:\", cheo_chinh_song_song)\n",
    "print(\"Cac duong song song cheo phu:\", cheo_phu_song_song)\n"
   ]
  },
  {
   "cell_type": "markdown",
   "id": "c156f631",
   "metadata": {},
   "source": [
    "Bài 5: In các cột, dòng theo hình "
   ]
  },
  {
   "cell_type": "code",
   "execution_count": 18,
   "id": "946fff8b",
   "metadata": {},
   "outputs": [
    {
     "name": "stdout",
     "output_type": "stream",
     "text": [
      "Cac dong trong ma tran:\n",
      "Dong 0: 1 2 3 4 5 \n",
      "Dong 1: 6 7 8 9 10 \n",
      "Dong 2: 11 12 13 14 15 \n",
      "Dong 3: 16 17 18 19 20 \n",
      "Dong 4: 21 22 23 24 25 \n",
      "Cac cot trong ma tran:\n",
      "Cot 0: 1 6 11 16 21 \n",
      "Cot 1: 2 7 12 17 22 \n",
      "Cot 2: 3 8 13 18 23 \n",
      "Cot 3: 4 9 14 19 24 \n",
      "Cot 4: 5 10 15 20 25 \n"
     ]
    }
   ],
   "source": [
    "# Hàm in ma trận theo dòng\n",
    "def liet_ke_theo_dong(A, n):\n",
    "    print(\"Cac dong trong ma tran:\")\n",
    "    for i in range(n):\n",
    "        print(f\"Dong {i}: \", end=\"\")\n",
    "        for j in range(n):\n",
    "            print(A[i][j], end=\" \")\n",
    "        print()\n",
    "\n",
    "# Hàm in ma trận theo cột\n",
    "def liet_ke_theo_cot(A, n):\n",
    "    print(\"Cac cot trong ma tran:\")\n",
    "    for j in range(n):\n",
    "        print(f\"Cot {j}: \", end=\"\")\n",
    "        for i in range(n):\n",
    "            print(A[i][j], end=\" \")\n",
    "        print()\n",
    "\n",
    "# Chương trình chính\n",
    "n = int(input(\"Nhap cap ma tran vuong n: \"))\n",
    "A = []\n",
    "for _ in range(n):\n",
    "    A.append(list(map(int, input().split())))\n",
    "\n",
    "liet_ke_theo_dong(A, n)\n",
    "liet_ke_theo_cot(A, n)\n"
   ]
  },
  {
   "cell_type": "markdown",
   "id": "6840d938",
   "metadata": {},
   "source": [
    "Các cấu trúc dữ liệu cơ sở trong Python "
   ]
  },
  {
   "cell_type": "code",
   "execution_count": 20,
   "id": "ea172101",
   "metadata": {},
   "outputs": [
    {
     "name": "stdout",
     "output_type": "stream",
     "text": [
      "Theo thu tu xuat hien:\n",
      "hôm : 2\n",
      "nay : 1\n",
      "trời : 2\n",
      "đẹp : 1\n",
      "quá! : 1\n",
      "qua : 1\n",
      "mưa : 1\n",
      "phải : 1\n",
      "không : 1\n",
      "\n",
      "Theo thu tu chu cai:\n",
      "hôm : 2\n",
      "không : 1\n",
      "mưa : 1\n",
      "nay : 1\n",
      "phải : 1\n",
      "qua : 1\n",
      "quá! : 1\n",
      "trời : 2\n",
      "đẹp : 1\n"
     ]
    }
   ],
   "source": [
    "import re\n",
    "from collections import OrderedDict\n",
    "\n",
    "# Nhập số câu\n",
    "n = int(input(\"Nhap so cau: \"))\n",
    "\n",
    "# Đọc n câu\n",
    "sentences = []\n",
    "for _ in range(n):\n",
    "    sentences.append(input().strip())\n",
    "\n",
    "# Ghép thành 1 đoạn văn\n",
    "text = \" \".join(sentences)\n",
    "\n",
    "# Tách từ bằng regex (chia theo các ký tự phân cách)\n",
    "words = re.split(r\"[ ,;\\-?]+\", text)\n",
    "\n",
    "# Bỏ từ rỗng (nếu có)\n",
    "words = [w for w in words if w]\n",
    "\n",
    "# Đếm số lần xuất hiện, giữ thứ tự xuất hiện\n",
    "word_count_order = OrderedDict()\n",
    "for w in words:\n",
    "    lw = w.lower()   # không phân biệt hoa thường\n",
    "    word_count_order[lw] = word_count_order.get(lw, 0) + 1\n",
    "\n",
    "# Xuất theo thứ tự xuất hiện\n",
    "print(\"Theo thu tu xuat hien:\")\n",
    "for w, c in word_count_order.items():\n",
    "    print(w, \":\", c)\n",
    "\n",
    "# Xuất theo thứ tự chữ cái\n",
    "print(\"\\nTheo thu tu chu cai:\")\n",
    "for w in sorted(word_count_order.keys()):\n",
    "    print(w, \":\", word_count_order[w])\n"
   ]
  },
  {
   "cell_type": "markdown",
   "id": "2ab2f902",
   "metadata": {},
   "source": []
  }
 ],
 "metadata": {
  "kernelspec": {
   "display_name": "Python 3",
   "language": "python",
   "name": "python3"
  },
  "language_info": {
   "codemirror_mode": {
    "name": "ipython",
    "version": 3
   },
   "file_extension": ".py",
   "mimetype": "text/x-python",
   "name": "python",
   "nbconvert_exporter": "python",
   "pygments_lexer": "ipython3",
   "version": "3.12.1"
  }
 },
 "nbformat": 4,
 "nbformat_minor": 5
}
