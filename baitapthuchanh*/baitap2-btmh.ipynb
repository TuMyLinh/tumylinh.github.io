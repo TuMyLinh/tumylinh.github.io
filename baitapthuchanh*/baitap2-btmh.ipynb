{
 "cells": [
  {
   "cell_type": "markdown",
   "id": "4c47b253-4ac5-4f75-b36f-793702a539df",
   "metadata": {},
   "source": [
    "# 1 Viết chương trình nhập số A và kiểm tra xem A có phải là số nguyên tố hay không?"
   ]
  },
  {
   "cell_type": "code",
   "execution_count": 4,
   "id": "7347a683-e435-45b6-b44c-02d28d02b769",
   "metadata": {},
   "outputs": [
    {
     "name": "stdout",
     "output_type": "stream",
     "text": [
      "Nhap vao so nguyen: 2\n"
     ]
    },
    {
     "name": "stdout",
     "output_type": "stream",
     "text": [
      "2 la so nguyen to\n"
     ]
    }
   ],
   "source": [
    "## ham kiem tra so nguyen to\n",
    "def ktsnt(n):\n",
    "    if n < 2: #0, 1 khong la so nguyen to \n",
    "        return False\n",
    "    for i in range(2, int(n**(0.5)) + 1): # can bac hai cua n\n",
    "        if (n%i == 0):\n",
    "            return False\n",
    "    return True\n",
    "### nhap vao so nguyen can kiem tra \n",
    "a = int(input(\"Nhap vao so nguyen:\"))\n",
    "if ktsnt (a):\n",
    "    print(\"%d la so nguyen to\"% a)\n",
    "else:\n",
    "    print(\"%d khong la so nguyen to\" % a)"
   ]
  },
  {
   "cell_type": "markdown",
   "id": "16bf1366-4307-48bf-808c-9fbf416aba5b",
   "metadata": {},
   "source": [
    "a) Nhập vào N, liệt kê tất cả các số nguyên tố nhỏ hơn N "
   ]
  },
  {
   "cell_type": "code",
   "execution_count": 5,
   "id": "968ecc08-cf5d-4fa5-87ed-4cc33f9ae0bd",
   "metadata": {},
   "outputs": [
    {
     "name": "stdout",
     "output_type": "stream",
     "text": [
      "2 \n",
      "3 \n",
      "5 \n",
      "7 \n",
      "11 \n",
      "13 \n",
      "17 \n",
      "19 \n",
      "23 \n",
      "29 \n",
      "31 \n",
      "37 \n",
      "41 \n",
      "43 \n",
      "47 \n",
      "53 \n",
      "59 \n",
      "61 \n",
      "67 \n",
      "71 \n",
      "73 \n",
      "79 \n",
      "83 \n",
      "89 \n",
      "97 \n",
      "101 \n",
      "103 \n",
      "107 \n",
      "109 \n",
      "113 \n",
      "127 \n",
      "131 \n",
      "137 \n",
      "139 \n",
      "149 \n",
      "151 \n",
      "157 \n",
      "163 \n",
      "167 \n",
      "173 \n",
      "179 \n",
      "181 \n",
      "191 \n",
      "193 \n",
      "197 \n",
      "199 \n"
     ]
    }
   ],
   "source": [
    "### ham liet ke cac so nguyen to nho hon n \n",
    "def lietkesnt(k):\n",
    "    if k <= 2:\n",
    "        print(\"khong co so nguyen to thoa yeu cau\")\n",
    "    else:\n",
    "        for i in range(2, k):\n",
    "            if ktsnt(i):\n",
    "                print(\"%d \"%i)\n",
    "n = 200\n",
    "lietkesnt(n)"
   ]
  },
  {
   "cell_type": "markdown",
   "id": "30583740-f9e4-4ed6-884a-b43af7bbfbec",
   "metadata": {},
   "source": [
    "b) In ra M số nguyên tố đầu tiên"
   ]
  },
  {
   "cell_type": "code",
   "execution_count": 6,
   "id": "0690db6b-15ff-42be-87c5-9a1b1af74fae",
   "metadata": {},
   "outputs": [
    {
     "name": "stdout",
     "output_type": "stream",
     "text": [
      "2 \n",
      "3 \n",
      "5 \n",
      "7 \n",
      "11 \n",
      "13 \n",
      "17 \n",
      "19 \n",
      "23 \n",
      "29 \n"
     ]
    }
   ],
   "source": [
    "### ham liet ke M\n",
    "def lietkeMsnt(M):\n",
    "    bien_dem = 0 # dem : tu 0 den M-1\n",
    "    t = 2 # 0 va 1 khong la so nguyen to\n",
    "    while(bien_dem < M):\n",
    "        if ktsnt(t):\n",
    "            print(\"%d \" %t)\n",
    "            bien_dem +=1\n",
    "        t+=1\n",
    "M=10\n",
    "lietkeMsnt(M)"
   ]
  },
  {
   "cell_type": "markdown",
   "id": "02fd5045",
   "metadata": {},
   "source": [
    "2. Viết chương trình in ra tất cả số chẵn trong khoảng (M,N). N, M nhập từ bàn phím"
   ]
  },
  {
   "cell_type": "code",
   "execution_count": 3,
   "id": "0a65c4b3",
   "metadata": {},
   "outputs": [
    {
     "name": "stdout",
     "output_type": "stream",
     "text": [
      "4\n",
      "6\n"
     ]
    }
   ],
   "source": [
    "def insochan(M, N):\n",
    "    for i in range (M+1,N):\n",
    "        if i % 2 == 0:\n",
    "            print(\"%d\" %i)\n",
    "M = int(input(\"Nhap chan duoi:\"))\n",
    "N = int(input(\"Nhap chan tren\"))\n",
    "insochan(M,N)"
   ]
  },
  {
   "cell_type": "markdown",
   "id": "2bdf785f",
   "metadata": {},
   "source": [
    "a. Tìm tất cả các số chia hết cho 7 nhưng không phải bội số của 5, nằm trong đoạn [99;999] (tính cả 99 và 999)"
   ]
  },
  {
   "cell_type": "code",
   "execution_count": 5,
   "id": "24e6c2bc",
   "metadata": {},
   "outputs": [
    {
     "name": "stdout",
     "output_type": "stream",
     "text": [
      "112, 119, 126, 133, 147, 154, 161, 168, 182, 189, 196, 203, 217, 224, 231, 238, 252, 259, 266, 273, 287, 294, 301, 308, 322, 329, 336, 343, 357, 364, 371, 378, 392, 399, 406, 413, 427, 434, 441, 448, 462, 469, 476, 483, 497, 504, 511, 518, 532, 539, 546, 553, 567, 574, 581, 588, 602, 609, 616, 623, 637, 644, 651, 658, 672, 679, 686, 693, 707, 714, 721, 728, 742, 749, 756, 763, 777, 784, 791, 798, 812, 819, 826, 833, 847, 854, 861, 868, 882, 889, 896, 903, 917, 924, 931, 938, 952, 959, 966, 973, 987, 994\n"
     ]
    }
   ],
   "source": [
    "def lietke1(M, N):\n",
    "    \"\"\"\n",
    "    Liệt kê các số chia hết cho 7 nhưng không chia hết cho 5\n",
    "    trong khoảng từ M đến N, và in chúng trên cùng một dòng.\n",
    "    \"\"\"\n",
    "    result = []\n",
    "    for i in range(M, N + 1):\n",
    "        if (i % 7 == 0) and (i % 5 != 0):\n",
    "            result.append(str(i))\n",
    "    \n",
    "    # In tất cả các số đã tìm thấy trên cùng một dòng, cách nhau bởi dấu phẩy\n",
    "    print(\", \".join(result))\n",
    "\n",
    "# Giá trị M và N\n",
    "M = 99\n",
    "N = 999\n",
    "\n",
    "# Gọi hàm\n",
    "lietke1(M, N)"
   ]
  },
  {
   "cell_type": "markdown",
   "id": "92b179f2",
   "metadata": {},
   "source": [
    "b. Tìm số đầu tiên chia hết cho 9 và chia hết cho 7 nằm trong đoạn [M,N]"
   ]
  },
  {
   "cell_type": "code",
   "execution_count": 6,
   "id": "5dca09d8",
   "metadata": {},
   "outputs": [
    {
     "name": "stdout",
     "output_type": "stream",
     "text": [
      "126 \n"
     ]
    }
   ],
   "source": [
    "def lietke2(M,N):\n",
    "    q = -1\n",
    "\n",
    "    for i in range(M,N+1):\n",
    "        if (i%9==0) and (i%7==0):\n",
    "            q = i\n",
    "            break\n",
    "    return q\n",
    "M = 64\n",
    "N = 300\n",
    "q = lietke2(M,N)\n",
    "if (q == -1):\n",
    "    print(\"khong co so thoa dieu kien\")\n",
    "else:\n",
    "    print(\"%d \" %q)"
   ]
  },
  {
   "cell_type": "markdown",
   "id": "85c59e2c",
   "metadata": {},
   "source": [
    "TH3: Nhập một số nguyên, đếm xem số đó có bao nhiêu chữ số và tính tổng các chữ số. "
   ]
  },
  {
   "cell_type": "code",
   "execution_count": 2,
   "id": "0af29503",
   "metadata": {},
   "outputs": [
    {
     "name": "stdout",
     "output_type": "stream",
     "text": [
      "1\n",
      "so luong chu so: 1\n",
      "tong cac chu so:1\n"
     ]
    }
   ],
   "source": [
    "def Tinh(n):\n",
    "    tong = 0\n",
    "    dem = 0\n",
    "    while (n>0):\n",
    "        sodu = n%10\n",
    "        tong = tong+sodu\n",
    "        dem = dem+1\n",
    "        n = n//10\n",
    "        print(sodu)\n",
    "    return tong,dem\n",
    "a = int(input(\"Nhap n:\"))\n",
    "tong, sochuso = Tinh(a)\n",
    "print(\"so luong chu so: %d\" % sochuso)\n",
    "print(\"tong cac chu so:%d\" %tong)"
   ]
  },
  {
   "cell_type": "markdown",
   "id": "64319880",
   "metadata": {},
   "source": [
    "TH4: Đệ quy - tính giai thừa của một số nguyên dương n"
   ]
  },
  {
   "cell_type": "code",
   "execution_count": 3,
   "id": "f029a875",
   "metadata": {},
   "outputs": [
    {
     "name": "stdout",
     "output_type": "stream",
     "text": [
      "Giai thừa của 5 là 120\n"
     ]
    }
   ],
   "source": [
    "def giaithua(n):\n",
    "    if n == 1:\n",
    "        return 1\n",
    "    else:\n",
    "        return (n*giaithua(n-1))\n",
    "num = 5\n",
    "print(\"Giai thừa của\", num, \"là\", giaithua(num))"
   ]
  },
  {
   "cell_type": "markdown",
   "id": "bd6707e5",
   "metadata": {},
   "source": [
    "TH5: Đệ quy - Tính lũy thừa a^b"
   ]
  }
 ],
 "metadata": {
  "kernelspec": {
   "display_name": "Python 3",
   "language": "python",
   "name": "python3"
  },
  "language_info": {
   "codemirror_mode": {
    "name": "ipython",
    "version": 3
   },
   "file_extension": ".py",
   "mimetype": "text/x-python",
   "name": "python",
   "nbconvert_exporter": "python",
   "pygments_lexer": "ipython3",
   "version": "3.12.1"
  }
 },
 "nbformat": 4,
 "nbformat_minor": 5
}
