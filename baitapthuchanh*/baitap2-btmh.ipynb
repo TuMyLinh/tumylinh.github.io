{
 "cells": [
  {
   "cell_type": "markdown",
   "id": "4c47b253-4ac5-4f75-b36f-793702a539df",
   "metadata": {},
   "source": [
    "# 1 Viết chương trình nhập số A và kiểm tra xem A có phải là số nguyên tố hay không?"
   ]
  },
  {
   "cell_type": "code",
   "execution_count": 4,
   "id": "7347a683-e435-45b6-b44c-02d28d02b769",
   "metadata": {},
   "outputs": [
    {
     "name": "stdin",
     "output_type": "stream",
     "text": [
      "Nhap vao so nguyen: 2\n"
     ]
    },
    {
     "name": "stdout",
     "output_type": "stream",
     "text": [
      "2 la so nguyen to\n"
     ]
    }
   ],
   "source": [
    "## ham kiem tra so nguyen to\n",
    "def ktsnt(n):\n",
    "    if n < 2: #0, 1 khong la so nguyen to \n",
    "        return False\n",
    "    for i in range(2, int(n**(0.5)) + 1): # can bac hai cua n\n",
    "        if (n%i == 0):\n",
    "            return False\n",
    "    return True\n",
    "### nhap vao so nguyen can kiem tra \n",
    "a = int(input(\"Nhap vao so nguyen:\"))\n",
    "if ktsnt (a):\n",
    "    print(\"%d la so nguyen to\"% a)\n",
    "else:\n",
    "    print(\"%d khong la so nguyen to\" % a)"
   ]
  },
  {
   "cell_type": "markdown",
   "id": "16bf1366-4307-48bf-808c-9fbf416aba5b",
   "metadata": {},
   "source": [
    "a) Nhập vào N, liệt kê tất cả các số nguyên tố nhỏ hơn N "
   ]
  },
  {
   "cell_type": "code",
   "execution_count": 5,
   "id": "968ecc08-cf5d-4fa5-87ed-4cc33f9ae0bd",
   "metadata": {},
   "outputs": [
    {
     "name": "stdout",
     "output_type": "stream",
     "text": [
      "2 \n",
      "3 \n",
      "5 \n",
      "7 \n",
      "11 \n",
      "13 \n",
      "17 \n",
      "19 \n",
      "23 \n",
      "29 \n",
      "31 \n",
      "37 \n",
      "41 \n",
      "43 \n",
      "47 \n",
      "53 \n",
      "59 \n",
      "61 \n",
      "67 \n",
      "71 \n",
      "73 \n",
      "79 \n",
      "83 \n",
      "89 \n",
      "97 \n",
      "101 \n",
      "103 \n",
      "107 \n",
      "109 \n",
      "113 \n",
      "127 \n",
      "131 \n",
      "137 \n",
      "139 \n",
      "149 \n",
      "151 \n",
      "157 \n",
      "163 \n",
      "167 \n",
      "173 \n",
      "179 \n",
      "181 \n",
      "191 \n",
      "193 \n",
      "197 \n",
      "199 \n"
     ]
    }
   ],
   "source": [
    "### ham liet ke cac so nguyen to nho hon n \n",
    "def lietkesnt(k):\n",
    "    if k <= 2:\n",
    "        print(\"khong co so nguyen to thoa yeu cau\")\n",
    "    else:\n",
    "        for i in range(2, k):\n",
    "            if ktsnt(i):\n",
    "                print(\"%d \"%i)\n",
    "n = 200\n",
    "lietkesnt(n)"
   ]
  },
  {
   "cell_type": "markdown",
   "id": "30583740-f9e4-4ed6-884a-b43af7bbfbec",
   "metadata": {},
   "source": [
    "b) In ra M số nguyên tố đầu tiên"
   ]
  },
  {
   "cell_type": "code",
   "execution_count": 6,
   "id": "0690db6b-15ff-42be-87c5-9a1b1af74fae",
   "metadata": {},
   "outputs": [
    {
     "name": "stdout",
     "output_type": "stream",
     "text": [
      "2 \n",
      "3 \n",
      "5 \n",
      "7 \n",
      "11 \n",
      "13 \n",
      "17 \n",
      "19 \n",
      "23 \n",
      "29 \n"
     ]
    }
   ],
   "source": [
    "### ham liet ke M\n",
    "def lietkeMsnt(M):\n",
    "    bien_dem = 0 # dem : tu 0 den M-1\n",
    "    t = 2 # 0 va 1 khong la so nguyen to\n",
    "    while(bien_dem < M):\n",
    "        if ktsnt(t):\n",
    "            print(\"%d \" %t)\n",
    "            bien_dem +=1\n",
    "        t+=1\n",
    "M=10\n",
    "lietkeMsnt(M)"
   ]
  },
  {
   "cell_type": "code",
   "execution_count": null,
   "id": "d342a06f-a851-4473-9761-912c1dde0233",
   "metadata": {},
   "outputs": [],
   "source": []
  }
 ],
 "metadata": {
  "kernelspec": {
   "display_name": "Python 3 (ipykernel)",
   "language": "python",
   "name": "python3"
  },
  "language_info": {
   "codemirror_mode": {
    "name": "ipython",
    "version": 3
   },
   "file_extension": ".py",
   "mimetype": "text/x-python",
   "name": "python",
   "nbconvert_exporter": "python",
   "pygments_lexer": "ipython3",
   "version": "3.12.1"
  }
 },
 "nbformat": 4,
 "nbformat_minor": 5
}
